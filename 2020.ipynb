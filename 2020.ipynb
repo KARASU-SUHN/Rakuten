{
 "cells": [
  {
   "cell_type": "code",
   "execution_count": 1,
   "metadata": {},
   "outputs": [],
   "source": [
    "import csv\n",
    "import pandas as pd\n",
    "import numpy as np\n",
    "# data1 = pd.read_csv('/Users/karasu/Documents/KyushuUniv/Rakuten/purchase_dataset/2019_20_35.csv')\n",
    "data5 = pd.read_csv('/Users/karasu/Documents/KyushuUniv/Rakuten/purchase_dataset/2020_20_35.csv')\n",
    "data6 = pd.read_csv('/Users/karasu/Documents/KyushuUniv/Rakuten/purchase_dataset/2020_35_50.csv')\n",
    "data7 = pd.read_csv('/Users/karasu/Documents/KyushuUniv/Rakuten/purchase_dataset/2020_50_65.csv')\n",
    "data8 = pd.read_csv('/Users/karasu/Documents/KyushuUniv/Rakuten/purchase_dataset/2020_65_80.csv')"
   ]
  },
  {
   "cell_type": "code",
   "execution_count": 2,
   "metadata": {},
   "outputs": [],
   "source": [
    "#gender mapping\n",
    "gender_mapping = {'f':1, 'm':2, 'u':0}\n",
    "data5['user_gender'] = data5['user_gender'].map(gender_mapping)"
   ]
  },
  {
   "cell_type": "code",
   "execution_count": 3,
   "metadata": {},
   "outputs": [],
   "source": [
    "data5=data5"
   ]
  },
  {
   "cell_type": "code",
   "execution_count": 4,
   "metadata": {},
   "outputs": [],
   "source": [
    "# #price mapping\n",
    "price_mapping = {'(0, 1000]':1, '(1000, 2000]':2, '(2000, 3000]':3,'(3000, 4000]':4, '(4000, 5000]':5,'(5000, 6000]':6, '(6000, 7000]':7, '(7000, 8000]':8, '(8000, 9000]':9, '(9000, 10000]':10, '(10000, 20000]':11, '(20000, 30000]':12, '(30000, 40000]':13, '(40000, 50000]':14, '(50000, 60000]':15, '(60000, 70000]':16, '(70000, 80000]':17, '(80000, 90000]':18, '(90000, 100000]':19, '(100000, 200000]':20, '(200000, 300000]':21, '(300000, 400000]':22,'(400000, 500000]':23, '(500000, 600000]':24,'(600000, 700000]':25, '(700000, 800000]':26,'(800000, 900000]':27, '(900000, 1000000]':28, '(1000000, 2000000]':29}\n",
    "data5['price'] = data5['price'].map(price_mapping)"
   ]
  },
  {
   "cell_type": "code",
   "execution_count": 5,
   "metadata": {},
   "outputs": [],
   "source": [
    "data5=data5"
   ]
  },
  {
   "cell_type": "code",
   "execution_count": 6,
   "metadata": {},
   "outputs": [],
   "source": [
    "#region mapping\n",
    "region_mapping = {'関東':1, '近畿':2, '中部':3, '九州':4, '東北':5, '中国':6, '北海道':7, '四国':8, '沖縄':9}\n",
    "data5['user_region'] = data5['user_region'].map(region_mapping)"
   ]
  },
  {
   "cell_type": "code",
   "execution_count": 7,
   "metadata": {},
   "outputs": [],
   "source": [
    "data5=data5"
   ]
  },
  {
   "cell_type": "code",
   "execution_count": 8,
   "metadata": {},
   "outputs": [],
   "source": [
    "# print(data5)\n",
    "#age mapping\n",
    "age_mapping = {'(20, 35]':2035}\n",
    "data5['user_age'] = data5['user_age'].map(age_mapping)"
   ]
  },
  {
   "cell_type": "code",
   "execution_count": 9,
   "metadata": {},
   "outputs": [],
   "source": [
    "data5=data5"
   ]
  },
  {
   "cell_type": "code",
   "execution_count": 10,
   "metadata": {},
   "outputs": [],
   "source": [
    "genre5=data5['genre_name_all'].str.split('>>', expand = True)\n",
    "genre5.columns =['top', 'middle', 'bottom']"
   ]
  },
  {
   "cell_type": "code",
   "execution_count": 11,
   "metadata": {},
   "outputs": [],
   "source": [
    "frames = [data5, genre5]\n",
    "result5 = pd.concat(frames,axis=1)\n",
    "result5 = result5.drop('genre_name_all', axis=1)"
   ]
  },
  {
   "cell_type": "code",
   "execution_count": 12,
   "metadata": {
    "scrolled": false
   },
   "outputs": [],
   "source": [
    "result5.drop('middle', inplace=True, axis=1)"
   ]
  },
  {
   "cell_type": "code",
   "execution_count": 13,
   "metadata": {},
   "outputs": [],
   "source": [
    "result5.drop('bottom', inplace=True, axis=1)"
   ]
  },
  {
   "cell_type": "code",
   "execution_count": 14,
   "metadata": {},
   "outputs": [],
   "source": [
    "# print(result5)"
   ]
  },
  {
   "cell_type": "code",
   "execution_count": 15,
   "metadata": {},
   "outputs": [],
   "source": [
    "revise5=result5"
   ]
  },
  {
   "cell_type": "code",
   "execution_count": 16,
   "metadata": {
    "scrolled": false
   },
   "outputs": [
    {
     "data": {
      "text/html": [
       "<div>\n",
       "<style scoped>\n",
       "    .dataframe tbody tr th:only-of-type {\n",
       "        vertical-align: middle;\n",
       "    }\n",
       "\n",
       "    .dataframe tbody tr th {\n",
       "        vertical-align: top;\n",
       "    }\n",
       "\n",
       "    .dataframe thead th {\n",
       "        text-align: right;\n",
       "    }\n",
       "</style>\n",
       "<table border=\"1\" class=\"dataframe\">\n",
       "  <thead>\n",
       "    <tr style=\"text-align: right;\">\n",
       "      <th></th>\n",
       "      <th>week</th>\n",
       "      <th>user_gender</th>\n",
       "      <th>user_age</th>\n",
       "      <th>user_region</th>\n",
       "      <th>price</th>\n",
       "      <th>top</th>\n",
       "    </tr>\n",
       "  </thead>\n",
       "  <tbody>\n",
       "    <tr>\n",
       "      <th>0</th>\n",
       "      <td>1</td>\n",
       "      <td>2</td>\n",
       "      <td>2035</td>\n",
       "      <td>1</td>\n",
       "      <td>1</td>\n",
       "      <td>本・雑誌・コミック</td>\n",
       "    </tr>\n",
       "    <tr>\n",
       "      <th>1</th>\n",
       "      <td>1</td>\n",
       "      <td>1</td>\n",
       "      <td>2035</td>\n",
       "      <td>5</td>\n",
       "      <td>3</td>\n",
       "      <td>日用品雑貨・文房具・手芸</td>\n",
       "    </tr>\n",
       "    <tr>\n",
       "      <th>2</th>\n",
       "      <td>1</td>\n",
       "      <td>2</td>\n",
       "      <td>2035</td>\n",
       "      <td>1</td>\n",
       "      <td>12</td>\n",
       "      <td>靴</td>\n",
       "    </tr>\n",
       "    <tr>\n",
       "      <th>3</th>\n",
       "      <td>1</td>\n",
       "      <td>2</td>\n",
       "      <td>2035</td>\n",
       "      <td>7</td>\n",
       "      <td>7</td>\n",
       "      <td>メンズファッション</td>\n",
       "    </tr>\n",
       "    <tr>\n",
       "      <th>4</th>\n",
       "      <td>1</td>\n",
       "      <td>2</td>\n",
       "      <td>2035</td>\n",
       "      <td>1</td>\n",
       "      <td>6</td>\n",
       "      <td>車用品・バイク用品</td>\n",
       "    </tr>\n",
       "    <tr>\n",
       "      <th>...</th>\n",
       "      <td>...</td>\n",
       "      <td>...</td>\n",
       "      <td>...</td>\n",
       "      <td>...</td>\n",
       "      <td>...</td>\n",
       "      <td>...</td>\n",
       "    </tr>\n",
       "    <tr>\n",
       "      <th>1927876</th>\n",
       "      <td>53</td>\n",
       "      <td>2</td>\n",
       "      <td>2035</td>\n",
       "      <td>2</td>\n",
       "      <td>2</td>\n",
       "      <td>キッチン用品・食器・調理器具</td>\n",
       "    </tr>\n",
       "    <tr>\n",
       "      <th>1927877</th>\n",
       "      <td>53</td>\n",
       "      <td>1</td>\n",
       "      <td>2035</td>\n",
       "      <td>2</td>\n",
       "      <td>2</td>\n",
       "      <td>パソコン・周辺機器</td>\n",
       "    </tr>\n",
       "    <tr>\n",
       "      <th>1927878</th>\n",
       "      <td>53</td>\n",
       "      <td>2</td>\n",
       "      <td>2035</td>\n",
       "      <td>3</td>\n",
       "      <td>4</td>\n",
       "      <td>花・ガーデン・DIY</td>\n",
       "    </tr>\n",
       "    <tr>\n",
       "      <th>1927879</th>\n",
       "      <td>53</td>\n",
       "      <td>1</td>\n",
       "      <td>2035</td>\n",
       "      <td>8</td>\n",
       "      <td>11</td>\n",
       "      <td>医薬品・コンタクト・介護</td>\n",
       "    </tr>\n",
       "    <tr>\n",
       "      <th>1927880</th>\n",
       "      <td>53</td>\n",
       "      <td>1</td>\n",
       "      <td>2035</td>\n",
       "      <td>3</td>\n",
       "      <td>5</td>\n",
       "      <td>食品</td>\n",
       "    </tr>\n",
       "  </tbody>\n",
       "</table>\n",
       "<p>1927881 rows × 6 columns</p>\n",
       "</div>"
      ],
      "text/plain": [
       "         week  user_gender  user_age  user_region  price              top\n",
       "0           1            2      2035            1      1       本・雑誌・コミック \n",
       "1           1            1      2035            5      3    日用品雑貨・文房具・手芸 \n",
       "2           1            2      2035            1     12               靴 \n",
       "3           1            2      2035            7      7       メンズファッション \n",
       "4           1            2      2035            1      6       車用品・バイク用品 \n",
       "...       ...          ...       ...          ...    ...              ...\n",
       "1927876    53            2      2035            2      2  キッチン用品・食器・調理器具 \n",
       "1927877    53            1      2035            2      2       パソコン・周辺機器 \n",
       "1927878    53            2      2035            3      4      花・ガーデン・DIY \n",
       "1927879    53            1      2035            8     11    医薬品・コンタクト・介護 \n",
       "1927880    53            1      2035            3      5              食品 \n",
       "\n",
       "[1927881 rows x 6 columns]"
      ]
     },
     "execution_count": 16,
     "metadata": {},
     "output_type": "execute_result"
    }
   ],
   "source": [
    "revise5"
   ]
  },
  {
   "cell_type": "code",
   "execution_count": 17,
   "metadata": {},
   "outputs": [
    {
     "name": "stdout",
     "output_type": "stream",
     "text": [
      "['本・雑誌・コミック ' '日用品雑貨・文房具・手芸 ' '靴 ' 'メンズファッション ' '車用品・バイク用品 '\n",
      " 'キッズ・ベビー・マタニティ ' '家電 ' 'インナー・下着・ナイトウェア ' '美容・コスメ・香水 ' 'インテリア・寝具・収納 '\n",
      " 'スポーツ・アウトドア ' 'おもちゃ ' 'テレビゲーム ' 'ビール・洋酒 ' 'バッグ・小物・ブランド雑貨 ' 'ダイエット・健康 '\n",
      " 'キッチン用品・食器・調理器具 ' 'CD・DVD ' '食品 ' 'ペット・ペットグッズ ' '水・ソフトドリンク '\n",
      " 'スマートフォン・タブレット ' '医薬品・コンタクト・介護 ' 'パソコン・周辺機器 ' 'レディースファッション ' 'ホビー '\n",
      " 'スイーツ・お菓子 ' 'ジュエリー・アクセサリー ' '楽器・音響機器 ' 'TV・オーディオ・カメラ ' '花・ガーデン・DIY '\n",
      " 'カタログギフト・チケット ' 'サービス・リフォーム ' '腕時計 ' '光回線・モバイル通信 ' '日本酒・焼酎 ' '車・バイク '\n",
      " 'デジタルコンテンツ ']\n"
     ]
    }
   ],
   "source": [
    "r5 = revise5.copy()\n",
    "print (r5['top'].unique())"
   ]
  },
  {
   "cell_type": "code",
   "execution_count": 18,
   "metadata": {},
   "outputs": [],
   "source": [
    "top_mapping = {'美容・コスメ・香水':1, '日用品雑貨・文房具・手芸':2, '本・雑誌・コミック':3, 'キッズ・ベビー・マタニティ':4, '医薬品・コンタクト・介護':5, '食品':6, 'インテリア・寝具・収納':7, 'スポーツ・アウトドア':8, 'キッチン用品・食器・調理器具':9, 'レディースファッション':10, 'スマートフォン・タブレット':11, '家電':12, 'バッグ・小物・ブランド雑貨':13, 'ダイエット・健康':14, 'インナー・下着・ナイトウェア':15, 'スイーツ・お菓子':16, '水・ソフトドリンク':17, 'ペット・ペットグッズ':18, '花・ガーデン・DIY':19, 'ホビー':20, '靴':21, 'メンズファッション':22, 'CD・DVD':23, 'おもちゃ':24, '車用品・バイク用品':25, 'ジュエリー・アクセサリー':26, 'パソコン・周辺機器':27, 'TV・オーディオ・カメラ':28, 'テレビゲーム':29, 'ビール・洋酒':30, '腕時計':31, '日本酒・焼酎':32, '楽器・音響機器':33, 'サービス・リフォーム':34, 'カタログギフト・チケット':35 ,'光回線・モバイル通信':36, '車・バイク':37, 'デジタルコンテンツ':38}\n",
    "r5['top'] = r5['top'].str.strip().map(top_mapping)"
   ]
  },
  {
   "cell_type": "code",
   "execution_count": 19,
   "metadata": {},
   "outputs": [
    {
     "data": {
      "text/html": [
       "<div>\n",
       "<style scoped>\n",
       "    .dataframe tbody tr th:only-of-type {\n",
       "        vertical-align: middle;\n",
       "    }\n",
       "\n",
       "    .dataframe tbody tr th {\n",
       "        vertical-align: top;\n",
       "    }\n",
       "\n",
       "    .dataframe thead th {\n",
       "        text-align: right;\n",
       "    }\n",
       "</style>\n",
       "<table border=\"1\" class=\"dataframe\">\n",
       "  <thead>\n",
       "    <tr style=\"text-align: right;\">\n",
       "      <th></th>\n",
       "      <th>week</th>\n",
       "      <th>user_gender</th>\n",
       "      <th>user_age</th>\n",
       "      <th>user_region</th>\n",
       "      <th>price</th>\n",
       "      <th>top</th>\n",
       "    </tr>\n",
       "  </thead>\n",
       "  <tbody>\n",
       "    <tr>\n",
       "      <th>0</th>\n",
       "      <td>1</td>\n",
       "      <td>2</td>\n",
       "      <td>2035</td>\n",
       "      <td>1</td>\n",
       "      <td>1</td>\n",
       "      <td>3</td>\n",
       "    </tr>\n",
       "    <tr>\n",
       "      <th>1</th>\n",
       "      <td>1</td>\n",
       "      <td>1</td>\n",
       "      <td>2035</td>\n",
       "      <td>5</td>\n",
       "      <td>3</td>\n",
       "      <td>2</td>\n",
       "    </tr>\n",
       "    <tr>\n",
       "      <th>2</th>\n",
       "      <td>1</td>\n",
       "      <td>2</td>\n",
       "      <td>2035</td>\n",
       "      <td>1</td>\n",
       "      <td>12</td>\n",
       "      <td>21</td>\n",
       "    </tr>\n",
       "    <tr>\n",
       "      <th>3</th>\n",
       "      <td>1</td>\n",
       "      <td>2</td>\n",
       "      <td>2035</td>\n",
       "      <td>7</td>\n",
       "      <td>7</td>\n",
       "      <td>22</td>\n",
       "    </tr>\n",
       "    <tr>\n",
       "      <th>4</th>\n",
       "      <td>1</td>\n",
       "      <td>2</td>\n",
       "      <td>2035</td>\n",
       "      <td>1</td>\n",
       "      <td>6</td>\n",
       "      <td>25</td>\n",
       "    </tr>\n",
       "    <tr>\n",
       "      <th>...</th>\n",
       "      <td>...</td>\n",
       "      <td>...</td>\n",
       "      <td>...</td>\n",
       "      <td>...</td>\n",
       "      <td>...</td>\n",
       "      <td>...</td>\n",
       "    </tr>\n",
       "    <tr>\n",
       "      <th>1927876</th>\n",
       "      <td>53</td>\n",
       "      <td>2</td>\n",
       "      <td>2035</td>\n",
       "      <td>2</td>\n",
       "      <td>2</td>\n",
       "      <td>9</td>\n",
       "    </tr>\n",
       "    <tr>\n",
       "      <th>1927877</th>\n",
       "      <td>53</td>\n",
       "      <td>1</td>\n",
       "      <td>2035</td>\n",
       "      <td>2</td>\n",
       "      <td>2</td>\n",
       "      <td>27</td>\n",
       "    </tr>\n",
       "    <tr>\n",
       "      <th>1927878</th>\n",
       "      <td>53</td>\n",
       "      <td>2</td>\n",
       "      <td>2035</td>\n",
       "      <td>3</td>\n",
       "      <td>4</td>\n",
       "      <td>19</td>\n",
       "    </tr>\n",
       "    <tr>\n",
       "      <th>1927879</th>\n",
       "      <td>53</td>\n",
       "      <td>1</td>\n",
       "      <td>2035</td>\n",
       "      <td>8</td>\n",
       "      <td>11</td>\n",
       "      <td>5</td>\n",
       "    </tr>\n",
       "    <tr>\n",
       "      <th>1927880</th>\n",
       "      <td>53</td>\n",
       "      <td>1</td>\n",
       "      <td>2035</td>\n",
       "      <td>3</td>\n",
       "      <td>5</td>\n",
       "      <td>6</td>\n",
       "    </tr>\n",
       "  </tbody>\n",
       "</table>\n",
       "<p>1927881 rows × 6 columns</p>\n",
       "</div>"
      ],
      "text/plain": [
       "         week  user_gender  user_age  user_region  price  top\n",
       "0           1            2      2035            1      1    3\n",
       "1           1            1      2035            5      3    2\n",
       "2           1            2      2035            1     12   21\n",
       "3           1            2      2035            7      7   22\n",
       "4           1            2      2035            1      6   25\n",
       "...       ...          ...       ...          ...    ...  ...\n",
       "1927876    53            2      2035            2      2    9\n",
       "1927877    53            1      2035            2      2   27\n",
       "1927878    53            2      2035            3      4   19\n",
       "1927879    53            1      2035            8     11    5\n",
       "1927880    53            1      2035            3      5    6\n",
       "\n",
       "[1927881 rows x 6 columns]"
      ]
     },
     "execution_count": 19,
     "metadata": {},
     "output_type": "execute_result"
    }
   ],
   "source": [
    "r5"
   ]
  },
  {
   "cell_type": "code",
   "execution_count": 20,
   "metadata": {},
   "outputs": [],
   "source": [
    "re5 = r5.drop('user_age', axis=1)"
   ]
  },
  {
   "cell_type": "code",
   "execution_count": 21,
   "metadata": {},
   "outputs": [
    {
     "name": "stdout",
     "output_type": "stream",
     "text": [
      "         week  user_gender  user_region  price  top\n",
      "0           1            2            1      1    3\n",
      "1           1            1            5      3    2\n",
      "2           1            2            1     12   21\n",
      "3           1            2            7      7   22\n",
      "4           1            2            1      6   25\n",
      "...       ...          ...          ...    ...  ...\n",
      "1927876    53            2            2      2    9\n",
      "1927877    53            1            2      2   27\n",
      "1927878    53            2            3      4   19\n",
      "1927879    53            1            8     11    5\n",
      "1927880    53            1            3      5    6\n",
      "\n",
      "[1927881 rows x 5 columns]\n"
     ]
    }
   ],
   "source": [
    "print(re5)"
   ]
  },
  {
   "cell_type": "markdown",
   "metadata": {},
   "source": [
    "### r5_ with user_age, re5 without user_age"
   ]
  },
  {
   "cell_type": "code",
   "execution_count": 22,
   "metadata": {},
   "outputs": [],
   "source": [
    "# re5.to_csv('/Users/karasu/Documents/KyushuUniv/Rakuten/purchase_dataset/20202035clean.csv')"
   ]
  },
  {
   "cell_type": "markdown",
   "metadata": {},
   "source": [
    "## 35-50"
   ]
  },
  {
   "cell_type": "code",
   "execution_count": 30,
   "metadata": {},
   "outputs": [],
   "source": [
    "#gender mapping\n",
    "gender_mapping = {'f':1, 'm':2, 'u':0}\n",
    "data6['user_gender'] = data6['user_gender'].map(gender_mapping)\n",
    "data6=data6"
   ]
  },
  {
   "cell_type": "code",
   "execution_count": 31,
   "metadata": {},
   "outputs": [],
   "source": [
    "# #price mapping\n",
    "price_mapping = {'(0, 1000]':1, '(1000, 2000]':2, '(2000, 3000]':3,'(3000, 4000]':4, '(4000, 5000]':5,'(5000, 6000]':6, '(6000, 7000]':7, '(7000, 8000]':8, '(8000, 9000]':9, '(9000, 10000]':10, '(10000, 20000]':11, '(20000, 30000]':12, '(30000, 40000]':13, '(40000, 50000]':14, '(50000, 60000]':15, '(60000, 70000]':16, '(70000, 80000]':17, '(80000, 90000]':18, '(90000, 100000]':19, '(100000, 200000]':20, '(200000, 300000]':21, '(300000, 400000]':22,'(400000, 500000]':23, '(500000, 600000]':24,'(600000, 700000]':25, '(700000, 800000]':26,'(800000, 900000]':27, '(900000, 1000000]':28, '(1000000, 2000000]':29}\n",
    "data6['price'] = data6['price'].map(price_mapping)\n",
    "data6=data6"
   ]
  },
  {
   "cell_type": "code",
   "execution_count": 32,
   "metadata": {},
   "outputs": [],
   "source": [
    "#region mapping\n",
    "region_mapping = {'関東':1, '近畿':2, '中部':3, '九州':4, '東北':5, '中国':6, '北海道':7, '四国':8, '沖縄':9}\n",
    "data6['user_region'] = data6['user_region'].map(region_mapping)\n",
    "data6=data6"
   ]
  },
  {
   "cell_type": "code",
   "execution_count": 33,
   "metadata": {},
   "outputs": [],
   "source": [
    "#age mapping\n",
    "age_mapping = {'(35, 50]':3550}\n",
    "data6['user_age'] = data6['user_age'].map(age_mapping)\n",
    "data6=data6"
   ]
  },
  {
   "cell_type": "code",
   "execution_count": 35,
   "metadata": {},
   "outputs": [],
   "source": [
    "genre6=data6['genre_name_all'].str.split('>>', expand = True)\n",
    "genre6.columns =['top', 'middle', 'bottom']\n",
    "frames = [data6, genre6]\n",
    "result6 = pd.concat(frames,axis=1)\n",
    "result6 = result6.drop('genre_name_all', axis=1)"
   ]
  },
  {
   "cell_type": "code",
   "execution_count": 38,
   "metadata": {},
   "outputs": [],
   "source": [
    "result6.drop('middle', inplace=True, axis=1)\n",
    "result6.drop('bottom', inplace=True, axis=1)"
   ]
  },
  {
   "cell_type": "code",
   "execution_count": 44,
   "metadata": {
    "scrolled": true
   },
   "outputs": [
    {
     "name": "stdout",
     "output_type": "stream",
     "text": [
      "['テレビゲーム ' 'CD・DVD ' '本・雑誌・コミック ' 'インテリア・寝具・収納 ' '日用品雑貨・文房具・手芸 '\n",
      " '医薬品・コンタクト・介護 ' 'ペット・ペットグッズ ' 'スポーツ・アウトドア ' 'パソコン・周辺機器 ' '美容・コスメ・香水 '\n",
      " 'キッズ・ベビー・マタニティ ' '家電 ' 'スイーツ・お菓子 ' 'インナー・下着・ナイトウェア ' 'ホビー ' '車用品・バイク用品 '\n",
      " '水・ソフトドリンク ' 'メンズファッション ' 'バッグ・小物・ブランド雑貨 ' 'TV・オーディオ・カメラ ' '靴 ' '食品 '\n",
      " 'スマートフォン・タブレット ' 'ダイエット・健康 ' '花・ガーデン・DIY ' 'レディースファッション ' 'おもちゃ '\n",
      " 'ビール・洋酒 ' 'サービス・リフォーム ' 'キッチン用品・食器・調理器具 ' '楽器・音響機器 ' '日本酒・焼酎 '\n",
      " 'ジュエリー・アクセサリー ' '腕時計 ' 'カタログギフト・チケット ' '光回線・モバイル通信 ' 'デジタルコンテンツ '\n",
      " '車・バイク ']\n"
     ]
    }
   ],
   "source": [
    "revise6=result6\n",
    "r6 = revise6.copy()\n",
    "print (r6['top'].unique())"
   ]
  },
  {
   "cell_type": "code",
   "execution_count": 45,
   "metadata": {
    "scrolled": true
   },
   "outputs": [
    {
     "name": "stdout",
     "output_type": "stream",
     "text": [
      "         week  user_gender  user_region  price  top\n",
      "0           1            2            6   13.0   29\n",
      "1           1            1            4    5.0   23\n",
      "2           1            1            2    1.0    3\n",
      "3           1            2            5   12.0   29\n",
      "4           1            1            3    4.0    7\n",
      "...       ...          ...          ...    ...  ...\n",
      "2577563    53            0            1    4.0    6\n",
      "2577564    53            1            8    4.0    7\n",
      "2577565    53            1            3    5.0    2\n",
      "2577566    53            1            1    1.0    9\n",
      "2577567    53            1            4    3.0    9\n",
      "\n",
      "[2577568 rows x 5 columns]\n"
     ]
    }
   ],
   "source": [
    "top_mapping = {'美容・コスメ・香水':1, '日用品雑貨・文房具・手芸':2, '本・雑誌・コミック':3, 'キッズ・ベビー・マタニティ':4, '医薬品・コンタクト・介護':5, '食品':6, 'インテリア・寝具・収納':7, 'スポーツ・アウトドア':8, 'キッチン用品・食器・調理器具':9, 'レディースファッション':10, 'スマートフォン・タブレット':11, '家電':12, 'バッグ・小物・ブランド雑貨':13, 'ダイエット・健康':14, 'インナー・下着・ナイトウェア':15, 'スイーツ・お菓子':16, '水・ソフトドリンク':17, 'ペット・ペットグッズ':18, '花・ガーデン・DIY':19, 'ホビー':20, '靴':21, 'メンズファッション':22, 'CD・DVD':23, 'おもちゃ':24, '車用品・バイク用品':25, 'ジュエリー・アクセサリー':26, 'パソコン・周辺機器':27, 'TV・オーディオ・カメラ':28, 'テレビゲーム':29, 'ビール・洋酒':30, '腕時計':31, '日本酒・焼酎':32, '楽器・音響機器':33, 'サービス・リフォーム':34, 'カタログギフト・チケット':35 ,'光回線・モバイル通信':36, '車・バイク':37, 'デジタルコンテンツ':38}\n",
    "r6['top'] = r6['top'].str.strip().map(top_mapping)\n",
    "re6 = r6.drop('user_age', axis=1)\n",
    "print(re6)"
   ]
  },
  {
   "cell_type": "code",
   "execution_count": 46,
   "metadata": {},
   "outputs": [],
   "source": [
    "re6.to_csv('/Users/karasu/Documents/KyushuUniv/Rakuten/purchase_dataset/20203550clean.csv')"
   ]
  },
  {
   "cell_type": "markdown",
   "metadata": {},
   "source": [
    "## 50-65"
   ]
  },
  {
   "cell_type": "code",
   "execution_count": 72,
   "metadata": {},
   "outputs": [],
   "source": [
    "#gender mapping\n",
    "gender_mapping = {'f':1, 'm':2, 'u':0}\n",
    "data7['user_gender'] = data7['user_gender'].map(gender_mapping)\n",
    "data7=data7"
   ]
  },
  {
   "cell_type": "code",
   "execution_count": 73,
   "metadata": {},
   "outputs": [],
   "source": [
    "# #price mapping\n",
    "price_mapping = {'(0, 1000]':1, '(1000, 2000]':2, '(2000, 3000]':3,'(3000, 4000]':4, '(4000, 5000]':5,'(5000, 6000]':6, '(6000, 7000]':7, '(7000, 8000]':8, '(8000, 9000]':9, '(9000, 10000]':10, '(10000, 20000]':11, '(20000, 30000]':12, '(30000, 40000]':13, '(40000, 50000]':14, '(50000, 60000]':15, '(60000, 70000]':16, '(70000, 80000]':17, '(80000, 90000]':18, '(90000, 100000]':19, '(100000, 200000]':20, '(200000, 300000]':21, '(300000, 400000]':22,'(400000, 500000]':23, '(500000, 600000]':24,'(600000, 700000]':25, '(700000, 800000]':26,'(800000, 900000]':27, '(900000, 1000000]':28, '(1000000, 2000000]':29}\n",
    "data7['price'] = data7['price'].map(price_mapping)\n",
    "data7=data7"
   ]
  },
  {
   "cell_type": "code",
   "execution_count": 74,
   "metadata": {},
   "outputs": [],
   "source": [
    "#region mapping\n",
    "region_mapping = {'関東':1, '近畿':2, '中部':3, '九州':4, '東北':5, '中国':6, '北海道':7, '四国':8, '沖縄':9}\n",
    "data7['user_region'] = data7['user_region'].map(region_mapping)\n",
    "data7=data7"
   ]
  },
  {
   "cell_type": "code",
   "execution_count": 75,
   "metadata": {},
   "outputs": [],
   "source": [
    "#age mapping\n",
    "age_mapping = {'(50, 65]':5065}\n",
    "data7['user_age'] = data7['user_age'].map(age_mapping)\n",
    "data7=data7"
   ]
  },
  {
   "cell_type": "code",
   "execution_count": 76,
   "metadata": {},
   "outputs": [],
   "source": [
    "genre7=data7['genre_name_all'].str.split('>>', expand = True)\n",
    "genre7.columns =['top', 'middle', 'bottom']\n",
    "frames = [data7, genre7]\n",
    "result7 = pd.concat(frames,axis=1)\n",
    "result7 = result7.drop('genre_name_all', axis=1)"
   ]
  },
  {
   "cell_type": "code",
   "execution_count": 77,
   "metadata": {},
   "outputs": [],
   "source": [
    "result7.drop('middle', inplace=True, axis=1)\n",
    "result7.drop('bottom', inplace=True, axis=1)"
   ]
  },
  {
   "cell_type": "code",
   "execution_count": 78,
   "metadata": {},
   "outputs": [
    {
     "name": "stdout",
     "output_type": "stream",
     "text": [
      "['本・雑誌・コミック ' '食品 ' '医薬品・コンタクト・介護 ' '美容・コスメ・香水 ' '花・ガーデン・DIY '\n",
      " 'ペット・ペットグッズ ' '家電 ' 'スイーツ・お菓子 ' 'インテリア・寝具・収納 ' 'レディースファッション ' 'CD・DVD '\n",
      " 'ビール・洋酒 ' 'スポーツ・アウトドア ' '腕時計 ' '日用品雑貨・文房具・手芸 ' 'インナー・下着・ナイトウェア '\n",
      " '水・ソフトドリンク ' 'パソコン・周辺機器 ' 'キッチン用品・食器・調理器具 ' 'スマートフォン・タブレット ' 'ダイエット・健康 '\n",
      " 'サービス・リフォーム ' 'TV・オーディオ・カメラ ' 'バッグ・小物・ブランド雑貨 ' '車用品・バイク用品 ' '靴 '\n",
      " 'メンズファッション ' 'ジュエリー・アクセサリー ' 'デジタルコンテンツ ' 'ホビー ' 'テレビゲーム ' '楽器・音響機器 '\n",
      " 'キッズ・ベビー・マタニティ ' '日本酒・焼酎 ' 'おもちゃ ' 'カタログギフト・チケット ' '光回線・モバイル通信 ' '車・バイク ']\n"
     ]
    }
   ],
   "source": [
    "revise7=result7\n",
    "r7 = revise7.copy()\n",
    "print (r7['top'].unique())"
   ]
  },
  {
   "cell_type": "code",
   "execution_count": 79,
   "metadata": {
    "scrolled": true
   },
   "outputs": [
    {
     "name": "stdout",
     "output_type": "stream",
     "text": [
      "         week  user_gender  user_region  price  top\n",
      "0           1            1            3    2.0    3\n",
      "1           1            1            2    4.0    6\n",
      "2           1            1            2    2.0    6\n",
      "3           1            2            1    4.0    5\n",
      "4           1            1            1    3.0    1\n",
      "...       ...          ...          ...    ...  ...\n",
      "1835765    53            1            1    2.0    1\n",
      "1835766    53            1            1    8.0    7\n",
      "1835767    53            2            1   12.0    8\n",
      "1835768    53            2            1    1.0    3\n",
      "1835769    53            2            5   12.0   22\n",
      "\n",
      "[1835770 rows x 5 columns]\n"
     ]
    }
   ],
   "source": [
    "top_mapping = {'美容・コスメ・香水':1, '日用品雑貨・文房具・手芸':2, '本・雑誌・コミック':3, 'キッズ・ベビー・マタニティ':4, '医薬品・コンタクト・介護':5, '食品':6, 'インテリア・寝具・収納':7, 'スポーツ・アウトドア':8, 'キッチン用品・食器・調理器具':9, 'レディースファッション':10, 'スマートフォン・タブレット':11, '家電':12, 'バッグ・小物・ブランド雑貨':13, 'ダイエット・健康':14, 'インナー・下着・ナイトウェア':15, 'スイーツ・お菓子':16, '水・ソフトドリンク':17, 'ペット・ペットグッズ':18, '花・ガーデン・DIY':19, 'ホビー':20, '靴':21, 'メンズファッション':22, 'CD・DVD':23, 'おもちゃ':24, '車用品・バイク用品':25, 'ジュエリー・アクセサリー':26, 'パソコン・周辺機器':27, 'TV・オーディオ・カメラ':28, 'テレビゲーム':29, 'ビール・洋酒':30, '腕時計':31, '日本酒・焼酎':32, '楽器・音響機器':33, 'サービス・リフォーム':34, 'カタログギフト・チケット':35 ,'光回線・モバイル通信':36, '車・バイク':37, 'デジタルコンテンツ':38}\n",
    "r7['top'] = r7['top'].str.strip().map(top_mapping)\n",
    "re7 = r7.drop('user_age', axis=1)\n",
    "print(re7)"
   ]
  },
  {
   "cell_type": "code",
   "execution_count": null,
   "metadata": {},
   "outputs": [],
   "source": []
  },
  {
   "cell_type": "code",
   "execution_count": 55,
   "metadata": {},
   "outputs": [],
   "source": [
    "re7.to_csv('/Users/karasu/Documents/KyushuUniv/Rakuten/purchase_dataset/20205065clean.csv')"
   ]
  },
  {
   "cell_type": "markdown",
   "metadata": {},
   "source": [
    "## 65-80"
   ]
  },
  {
   "cell_type": "code",
   "execution_count": 61,
   "metadata": {},
   "outputs": [],
   "source": [
    "#gender mapping\n",
    "gender_mapping = {'f':1, 'm':2, 'u':0}\n",
    "data8['user_gender'] = data8['user_gender'].map(gender_mapping)\n",
    "data8=data8"
   ]
  },
  {
   "cell_type": "code",
   "execution_count": 63,
   "metadata": {},
   "outputs": [],
   "source": [
    "# #price mapping\n",
    "price_mapping = {'(0, 1000]':1, '(1000, 2000]':2, '(2000, 3000]':3,'(3000, 4000]':4, '(4000, 5000]':5,'(5000, 6000]':6, '(6000, 7000]':7, '(7000, 8000]':8, '(8000, 9000]':9, '(9000, 10000]':10, '(10000, 20000]':11, '(20000, 30000]':12, '(30000, 40000]':13, '(40000, 50000]':14, '(50000, 60000]':15, '(60000, 70000]':16, '(70000, 80000]':17, '(80000, 90000]':18, '(90000, 100000]':19, '(100000, 200000]':20, '(200000, 300000]':21, '(300000, 400000]':22,'(400000, 500000]':23, '(500000, 600000]':24,'(600000, 700000]':25, '(700000, 800000]':26,'(800000, 900000]':27, '(900000, 1000000]':28, '(1000000, 2000000]':29}\n",
    "data8['price'] = data8['price'].map(price_mapping)\n",
    "data8=data8"
   ]
  },
  {
   "cell_type": "code",
   "execution_count": 64,
   "metadata": {},
   "outputs": [],
   "source": [
    "#region mapping\n",
    "region_mapping = {'関東':1, '近畿':2, '中部':3, '九州':4, '東北':5, '中国':6, '北海道':7, '四国':8, '沖縄':9}\n",
    "data8['user_region'] = data8['user_region'].map(region_mapping)\n",
    "data8=data8"
   ]
  },
  {
   "cell_type": "code",
   "execution_count": 65,
   "metadata": {},
   "outputs": [],
   "source": [
    "#age mapping\n",
    "age_mapping = {'(65, 80]':6580}\n",
    "data8['user_age'] = data8['user_age'].map(age_mapping)\n",
    "data8=data8"
   ]
  },
  {
   "cell_type": "code",
   "execution_count": 66,
   "metadata": {},
   "outputs": [],
   "source": [
    "genre8=data8['genre_name_all'].str.split('>>', expand = True)\n",
    "genre8.columns =['top', 'middle', 'bottom']\n",
    "frames = [data8, genre8]\n",
    "result8 = pd.concat(frames,axis=1)\n",
    "result8 = result8.drop('genre_name_all', axis=1)"
   ]
  },
  {
   "cell_type": "code",
   "execution_count": 67,
   "metadata": {},
   "outputs": [],
   "source": [
    "result8.drop('middle', inplace=True, axis=1)\n",
    "result8.drop('bottom', inplace=True, axis=1)"
   ]
  },
  {
   "cell_type": "code",
   "execution_count": 68,
   "metadata": {},
   "outputs": [
    {
     "name": "stdout",
     "output_type": "stream",
     "text": [
      "['食品 ' '本・雑誌・コミック ' '美容・コスメ・香水 ' '水・ソフトドリンク ' 'スポーツ・アウトドア '\n",
      " '日用品雑貨・文房具・手芸 ' 'ダイエット・健康 ' 'スマートフォン・タブレット ' 'インナー・下着・ナイトウェア ' 'ホビー '\n",
      " 'インテリア・寝具・収納 ' '家電 ' 'バッグ・小物・ブランド雑貨 ' 'ペット・ペットグッズ ' 'CD・DVD '\n",
      " 'TV・オーディオ・カメラ ' '靴 ' 'スイーツ・お菓子 ' '医薬品・コンタクト・介護 ' 'キッチン用品・食器・調理器具 '\n",
      " '花・ガーデン・DIY ' 'キッズ・ベビー・マタニティ ' 'ビール・洋酒 ' 'ジュエリー・アクセサリー ' 'パソコン・周辺機器 '\n",
      " 'レディースファッション ' '車用品・バイク用品 ' 'テレビゲーム ' 'メンズファッション ' '日本酒・焼酎 ' '楽器・音響機器 '\n",
      " 'おもちゃ ' 'サービス・リフォーム ' '腕時計 ' 'カタログギフト・チケット ' '車・バイク ' '光回線・モバイル通信 '\n",
      " 'デジタルコンテンツ ']\n"
     ]
    }
   ],
   "source": [
    "revise8=result8\n",
    "r8 = revise8.copy()\n",
    "print (r8['top'].unique())"
   ]
  },
  {
   "cell_type": "code",
   "execution_count": 69,
   "metadata": {},
   "outputs": [
    {
     "name": "stdout",
     "output_type": "stream",
     "text": [
      "         week  user_gender  user_region  price  top\n",
      "0           1            2            2      1    3\n",
      "1           1            2            1      1    6\n",
      "2           1            2            1      2    6\n",
      "3           1            2            1      3    5\n",
      "4           1            1            1      3    1\n",
      "...       ...          ...          ...    ...  ...\n",
      "1065453    53            1            6      3   14\n",
      "1065454    53            2            3     11   12\n",
      "1065455    53            2            1      5    5\n",
      "1065456    53            2            2      3    5\n",
      "1065457    53            2            1      4   26\n",
      "\n",
      "[1065458 rows x 5 columns]\n"
     ]
    }
   ],
   "source": [
    "top_mapping = {'美容・コスメ・香水':1, '日用品雑貨・文房具・手芸':2, '本・雑誌・コミック':3, 'キッズ・ベビー・マタニティ':4, '医薬品・コンタクト・介護':5, '食品':6, 'インテリア・寝具・収納':7, 'スポーツ・アウトドア':8, 'キッチン用品・食器・調理器具':9, 'レディースファッション':10, 'スマートフォン・タブレット':11, '家電':12, 'バッグ・小物・ブランド雑貨':13, 'ダイエット・健康':14, 'インナー・下着・ナイトウェア':15, 'スイーツ・お菓子':16, '水・ソフトドリンク':17, 'ペット・ペットグッズ':18, '花・ガーデン・DIY':19, 'ホビー':20, '靴':21, 'メンズファッション':22, 'CD・DVD':23, 'おもちゃ':24, '車用品・バイク用品':25, 'ジュエリー・アクセサリー':26, 'パソコン・周辺機器':27, 'TV・オーディオ・カメラ':28, 'テレビゲーム':29, 'ビール・洋酒':30, '腕時計':31, '日本酒・焼酎':32, '楽器・音響機器':33, 'サービス・リフォーム':34, 'カタログギフト・チケット':35 ,'光回線・モバイル通信':36, '車・バイク':37, 'デジタルコンテンツ':38}\n",
    "r8['top'] = r7['top'].str.strip().map(top_mapping)\n",
    "re8 = r8.drop('user_age', axis=1)\n",
    "print(re8)"
   ]
  },
  {
   "cell_type": "code",
   "execution_count": 70,
   "metadata": {},
   "outputs": [],
   "source": [
    "re8.to_csv('/Users/karasu/Documents/KyushuUniv/Rakuten/purchase_dataset/20206580clean.csv')"
   ]
  },
  {
   "cell_type": "code",
   "execution_count": 28,
   "metadata": {
    "scrolled": false
   },
   "outputs": [],
   "source": [
    "# #gender mapping\n",
    "# gender_mapping = {'f':1, 'm':2, 'u':0}\n",
    "# data6['user_gender'] = data6['user_gender'].map(gender_mapping)\n",
    "# data6=data6\n",
    "# # #price mapping\n",
    "# price_mapping = {'(0, 1000]':1, '(1000, 2000]':2, '(2000, 3000]':3,'(3000, 4000]':4, '(4000, 5000]':5,'(5000, 6000]':6, '(6000, 7000]':7, '(7000, 8000]':8, '(8000, 9000]':9, '(9000, 10000]':10, '(10000, 20000]':11, '(20000, 30000]':12, '(30000, 40000]':13, '(40000, 50000]':14, '(50000, 60000]':15, '(60000, 70000]':16, '(70000, 80000]':17, '(80000, 90000]':18, '(90000, 100000]':19, '(100000, 200000]':20, '(200000, 300000]':21, '(300000, 400000]':22,'(400000, 500000]':23, '(500000, 600000]':24,'(600000, 700000]':25, '(700000, 800000]':26,'(800000, 900000]':27, '(900000, 1000000]':28, '(1000000, 2000000]':29}\n",
    "# data6['price'] = data6['price'].map(price_mapping)\n",
    "# data6=data6\n",
    "# #region mapping\n",
    "# region_mapping = {'関東':1, '近畿':2, '中部':3, '九州':4, '東北':5, '中国':6, '北海道':7, '四国':8, '沖縄':9}\n",
    "# data6['user_region'] = data6['user_region'].map(region_mapping)\n",
    "# data6=data6\n",
    "# #age mapping\n",
    "# age_mapping = {'(35, 50]':3550}\n",
    "# data6['user_age'] = data6['user_age'].map(age_mapping)\n",
    "# data6=data6\n",
    "# genre6=data6['genre_name_all'].str.split('>>', expand = True)\n",
    "# genre6.columns =['top', 'middle', 'bottom']\n",
    "# frames = [data6, genre6]\n",
    "# result6 = pd.concat(frames,axis=1)\n",
    "# result6 = result6.drop('genre_name_all', axis=1)\n",
    "# result6.drop('middle', inplace=True, axis=1)\n",
    "# result6.drop('bottom', inplace=True, axis=1)\n",
    "# revise6=result6\n",
    "# r6 = revise6.copy()\n",
    "# print (r6['top'].unique())\n",
    "\n",
    "# top_mapping = {'美容・コスメ・香水':1, '日用品雑貨・文房具・手芸':2, '本・雑誌・コミック':3, 'キッズ・ベビー・マタニティ':4, '医薬品・コンタクト・介護':5, '食品':6, 'インテリア・寝具・収納':7, 'スポーツ・アウトドア':8, 'キッチン用品・食器・調理器具':9, 'レディースファッション':10, 'スマートフォン・タブレット':11, '家電':12, 'バッグ・小物・ブランド雑貨':13, 'ダイエット・健康':14, 'インナー・下着・ナイトウェア':15, 'スイーツ・お菓子':16, '水・ソフトドリンク':17, 'ペット・ペットグッズ':18, '花・ガーデン・DIY':19, 'ホビー':20, '靴':21, 'メンズファッション':22, 'CD・DVD':23, 'おもちゃ':24, '車用品・バイク用品':25, 'ジュエリー・アクセサリー':26, 'パソコン・周辺機器':27, 'TV・オーディオ・カメラ':28, 'テレビゲーム':29, 'ビール・洋酒':30, '腕時計':31, '日本酒・焼酎':32, '楽器・音響機器':33, 'サービス・リフォーム':34, 'カタログギフト・チケット':35 ,'光回線・モバイル通信':36, '車・バイク':37, 'デジタルコンテンツ':38}\n",
    "# r6['top'] = r6['top'].str.strip().map(top_mapping)\n",
    "\n",
    "# r6\n",
    "# re6 = r6.drop('user_age', axis=1)\n",
    "# print(re6)\n",
    "\n",
    "# re6.to_csv('/Users/karasu/Documents/KyushuUniv/Rakuten/purchase_dataset/20203550clean.csv')"
   ]
  },
  {
   "cell_type": "code",
   "execution_count": 85,
   "metadata": {},
   "outputs": [],
   "source": [
    "frames = [r5,r6,r7,r8]\n",
    "result = pd.concat(frames,axis=0)"
   ]
  },
  {
   "cell_type": "code",
   "execution_count": 87,
   "metadata": {},
   "outputs": [],
   "source": [
    "result.to_csv('/Users/karasu/Documents/KyushuUniv/Rakuten/2020totalclean.csv')"
   ]
  },
  {
   "cell_type": "code",
   "execution_count": 88,
   "metadata": {},
   "outputs": [],
   "source": [
    "from sklearn.cluster import KMeans\n",
    "import numpy as np\n",
    "from sklearn.datasets import load_iris"
   ]
  },
  {
   "cell_type": "code",
   "execution_count": 147,
   "metadata": {},
   "outputs": [],
   "source": [
    "kmeans = KMeans(n_clusters=10)\n",
    "clusters = kmeans.fit_predict(re5)\n",
    "# result_cluster=result_new.insert(result_new.columns.get_loc(\"week\"), \"cluster\", clusters)\n",
    "# # result_new.head(100)"
   ]
  },
  {
   "cell_type": "code",
   "execution_count": 148,
   "metadata": {},
   "outputs": [
    {
     "data": {
      "text/plain": [
       "array([3, 3, 9, ..., 1, 5, 5], dtype=int32)"
      ]
     },
     "execution_count": 148,
     "metadata": {},
     "output_type": "execute_result"
    }
   ],
   "source": [
    "clusters"
   ]
  },
  {
   "cell_type": "code",
   "execution_count": 149,
   "metadata": {},
   "outputs": [
    {
     "data": {
      "text/plain": [
       "True"
      ]
     },
     "execution_count": 149,
     "metadata": {},
     "output_type": "execute_result"
    }
   ],
   "source": [
    "clusters is kmeans.labels_"
   ]
  },
  {
   "cell_type": "code",
   "execution_count": 150,
   "metadata": {},
   "outputs": [
    {
     "data": {
      "text/plain": [
       "array([[ 7.00000000e+00,  2.08191981e+01,  1.37862978e+00,\n",
       "         2.61795994e+00,  4.17431222e+00,  2.11401395e+01],\n",
       "       [ 6.00000000e+00,  4.71029056e+01,  1.29948733e+00,\n",
       "         2.65821376e+00,  4.06445517e+00,  1.40707227e+01],\n",
       "       [-5.05195885e-12,  2.72214921e+01,  1.26880463e+00,\n",
       "         2.65824919e+00,  3.34555150e+00,  5.00112518e+00],\n",
       "       [ 9.00000000e+00,  6.88016359e+00,  1.25914433e+00,\n",
       "         2.68384909e+00,  3.18121522e+00,  4.60203622e+00],\n",
       "       [ 5.00017744e+00,  4.50516796e+01,  1.47077220e+00,\n",
       "         2.70542636e+00,  5.47163722e+00,  2.55580508e+01],\n",
       "       [ 1.00000000e+00,  4.84423845e+01,  1.30655806e+00,\n",
       "         2.64467045e+00,  3.90446202e+00,  4.18194945e+00],\n",
       "       [ 8.00000000e+00,  3.79546003e+01,  1.26755099e+00,\n",
       "         2.63854356e+00,  3.27878093e+00,  4.58094203e+00],\n",
       "       [ 3.00000000e+00,  3.29637180e+01,  1.33803807e+00,\n",
       "         2.64882370e+00,  4.11802565e+00,  1.72702994e+01],\n",
       "       [ 4.00000000e+00,  1.72866999e+01,  1.27605560e+00,\n",
       "         2.59733406e+00,  3.40423032e+00,  5.21469869e+00],\n",
       "       [ 2.00000000e+00,  7.66773366e+00,  1.36768957e+00,\n",
       "         2.65554213e+00,  4.33380151e+00,  1.89428312e+01]])"
      ]
     },
     "execution_count": 150,
     "metadata": {},
     "output_type": "execute_result"
    }
   ],
   "source": [
    "kmeans.cluster_centers_"
   ]
  },
  {
   "cell_type": "code",
   "execution_count": 151,
   "metadata": {
    "scrolled": true
   },
   "outputs": [
    {
     "data": {
      "text/plain": [
       "array([[27.18355064, 47.64105459, 27.95276724, ..., 35.69593271,\n",
       "        17.43609412, 19.02333854],\n",
       "       [27.75503622, 47.82140704, 27.98658351, ..., 36.02434725,\n",
       "        17.51009118, 19.69591094],\n",
       "       [21.95599089, 47.49427388, 32.02677875, ..., 33.19446142,\n",
       "        24.40072044, 10.51674147],\n",
       "       ...,\n",
       "       [32.27610029,  7.7256189 , 29.9596347 , ..., 20.34747916,\n",
       "        38.34730127, 45.51535489],\n",
       "       [37.5207655 , 14.79120981, 27.43590007, ..., 25.14207175,\n",
       "        37.03304773, 48.2032524 ],\n",
       "       [36.08045054, 11.22470675, 25.8738376 , ..., 23.09735305,\n",
       "        35.88650626, 47.16173151]])"
      ]
     },
     "execution_count": 151,
     "metadata": {},
     "output_type": "execute_result"
    }
   ],
   "source": [
    "kmeans.transform(re5)\n",
    "#the euclidean distance between each instance and each centroid:"
   ]
  },
  {
   "cell_type": "code",
   "execution_count": 154,
   "metadata": {},
   "outputs": [
    {
     "data": {
      "text/html": [
       "<div>\n",
       "<style scoped>\n",
       "    .dataframe tbody tr th:only-of-type {\n",
       "        vertical-align: middle;\n",
       "    }\n",
       "\n",
       "    .dataframe tbody tr th {\n",
       "        vertical-align: top;\n",
       "    }\n",
       "\n",
       "    .dataframe thead th {\n",
       "        text-align: right;\n",
       "    }\n",
       "</style>\n",
       "<table border=\"1\" class=\"dataframe\">\n",
       "  <thead>\n",
       "    <tr style=\"text-align: right;\">\n",
       "      <th></th>\n",
       "      <th>week</th>\n",
       "      <th>user_gender</th>\n",
       "      <th>user_region</th>\n",
       "      <th>price</th>\n",
       "      <th>top</th>\n",
       "    </tr>\n",
       "  </thead>\n",
       "  <tbody>\n",
       "    <tr>\n",
       "      <th>0</th>\n",
       "      <td>1</td>\n",
       "      <td>2</td>\n",
       "      <td>1</td>\n",
       "      <td>1</td>\n",
       "      <td>3</td>\n",
       "    </tr>\n",
       "    <tr>\n",
       "      <th>1</th>\n",
       "      <td>1</td>\n",
       "      <td>1</td>\n",
       "      <td>5</td>\n",
       "      <td>3</td>\n",
       "      <td>2</td>\n",
       "    </tr>\n",
       "    <tr>\n",
       "      <th>2</th>\n",
       "      <td>1</td>\n",
       "      <td>2</td>\n",
       "      <td>1</td>\n",
       "      <td>12</td>\n",
       "      <td>21</td>\n",
       "    </tr>\n",
       "    <tr>\n",
       "      <th>3</th>\n",
       "      <td>1</td>\n",
       "      <td>2</td>\n",
       "      <td>7</td>\n",
       "      <td>7</td>\n",
       "      <td>22</td>\n",
       "    </tr>\n",
       "    <tr>\n",
       "      <th>4</th>\n",
       "      <td>1</td>\n",
       "      <td>2</td>\n",
       "      <td>1</td>\n",
       "      <td>6</td>\n",
       "      <td>25</td>\n",
       "    </tr>\n",
       "    <tr>\n",
       "      <th>...</th>\n",
       "      <td>...</td>\n",
       "      <td>...</td>\n",
       "      <td>...</td>\n",
       "      <td>...</td>\n",
       "      <td>...</td>\n",
       "    </tr>\n",
       "    <tr>\n",
       "      <th>1927876</th>\n",
       "      <td>53</td>\n",
       "      <td>2</td>\n",
       "      <td>2</td>\n",
       "      <td>2</td>\n",
       "      <td>9</td>\n",
       "    </tr>\n",
       "    <tr>\n",
       "      <th>1927877</th>\n",
       "      <td>53</td>\n",
       "      <td>1</td>\n",
       "      <td>2</td>\n",
       "      <td>2</td>\n",
       "      <td>27</td>\n",
       "    </tr>\n",
       "    <tr>\n",
       "      <th>1927878</th>\n",
       "      <td>53</td>\n",
       "      <td>2</td>\n",
       "      <td>3</td>\n",
       "      <td>4</td>\n",
       "      <td>19</td>\n",
       "    </tr>\n",
       "    <tr>\n",
       "      <th>1927879</th>\n",
       "      <td>53</td>\n",
       "      <td>1</td>\n",
       "      <td>8</td>\n",
       "      <td>11</td>\n",
       "      <td>5</td>\n",
       "    </tr>\n",
       "    <tr>\n",
       "      <th>1927880</th>\n",
       "      <td>53</td>\n",
       "      <td>1</td>\n",
       "      <td>3</td>\n",
       "      <td>5</td>\n",
       "      <td>6</td>\n",
       "    </tr>\n",
       "  </tbody>\n",
       "</table>\n",
       "<p>1927881 rows × 5 columns</p>\n",
       "</div>"
      ],
      "text/plain": [
       "         week  user_gender  user_region  price  top\n",
       "0           1            2            1      1    3\n",
       "1           1            1            5      3    2\n",
       "2           1            2            1     12   21\n",
       "3           1            2            7      7   22\n",
       "4           1            2            1      6   25\n",
       "...       ...          ...          ...    ...  ...\n",
       "1927876    53            2            2      2    9\n",
       "1927877    53            1            2      2   27\n",
       "1927878    53            2            3      4   19\n",
       "1927879    53            1            8     11    5\n",
       "1927880    53            1            3      5    6\n",
       "\n",
       "[1927881 rows x 5 columns]"
      ]
     },
     "execution_count": 154,
     "metadata": {},
     "output_type": "execute_result"
    }
   ],
   "source": [
    "re5"
   ]
  },
  {
   "cell_type": "code",
   "execution_count": 153,
   "metadata": {},
   "outputs": [],
   "source": [
    "re5=re5.drop('clusters',axis=1)"
   ]
  },
  {
   "cell_type": "code",
   "execution_count": 155,
   "metadata": {},
   "outputs": [],
   "source": [
    "re5cluster=re5.insert(re5.columns.get_loc(\"week\"), \"clusters\", clusters)"
   ]
  },
  {
   "cell_type": "code",
   "execution_count": 156,
   "metadata": {
    "scrolled": false
   },
   "outputs": [
    {
     "data": {
      "text/html": [
       "<div>\n",
       "<style scoped>\n",
       "    .dataframe tbody tr th:only-of-type {\n",
       "        vertical-align: middle;\n",
       "    }\n",
       "\n",
       "    .dataframe tbody tr th {\n",
       "        vertical-align: top;\n",
       "    }\n",
       "\n",
       "    .dataframe thead th {\n",
       "        text-align: right;\n",
       "    }\n",
       "</style>\n",
       "<table border=\"1\" class=\"dataframe\">\n",
       "  <thead>\n",
       "    <tr style=\"text-align: right;\">\n",
       "      <th></th>\n",
       "      <th>clusters</th>\n",
       "      <th>week</th>\n",
       "      <th>user_gender</th>\n",
       "      <th>user_region</th>\n",
       "      <th>price</th>\n",
       "      <th>top</th>\n",
       "    </tr>\n",
       "  </thead>\n",
       "  <tbody>\n",
       "    <tr>\n",
       "      <th>0</th>\n",
       "      <td>3</td>\n",
       "      <td>1</td>\n",
       "      <td>2</td>\n",
       "      <td>1</td>\n",
       "      <td>1</td>\n",
       "      <td>3</td>\n",
       "    </tr>\n",
       "    <tr>\n",
       "      <th>1</th>\n",
       "      <td>3</td>\n",
       "      <td>1</td>\n",
       "      <td>1</td>\n",
       "      <td>5</td>\n",
       "      <td>3</td>\n",
       "      <td>2</td>\n",
       "    </tr>\n",
       "    <tr>\n",
       "      <th>2</th>\n",
       "      <td>9</td>\n",
       "      <td>1</td>\n",
       "      <td>2</td>\n",
       "      <td>1</td>\n",
       "      <td>12</td>\n",
       "      <td>21</td>\n",
       "    </tr>\n",
       "    <tr>\n",
       "      <th>3</th>\n",
       "      <td>9</td>\n",
       "      <td>1</td>\n",
       "      <td>2</td>\n",
       "      <td>7</td>\n",
       "      <td>7</td>\n",
       "      <td>22</td>\n",
       "    </tr>\n",
       "    <tr>\n",
       "      <th>4</th>\n",
       "      <td>9</td>\n",
       "      <td>1</td>\n",
       "      <td>2</td>\n",
       "      <td>1</td>\n",
       "      <td>6</td>\n",
       "      <td>25</td>\n",
       "    </tr>\n",
       "    <tr>\n",
       "      <th>...</th>\n",
       "      <td>...</td>\n",
       "      <td>...</td>\n",
       "      <td>...</td>\n",
       "      <td>...</td>\n",
       "      <td>...</td>\n",
       "      <td>...</td>\n",
       "    </tr>\n",
       "    <tr>\n",
       "      <th>1927876</th>\n",
       "      <td>5</td>\n",
       "      <td>53</td>\n",
       "      <td>2</td>\n",
       "      <td>2</td>\n",
       "      <td>2</td>\n",
       "      <td>9</td>\n",
       "    </tr>\n",
       "    <tr>\n",
       "      <th>1927877</th>\n",
       "      <td>4</td>\n",
       "      <td>53</td>\n",
       "      <td>1</td>\n",
       "      <td>2</td>\n",
       "      <td>2</td>\n",
       "      <td>27</td>\n",
       "    </tr>\n",
       "    <tr>\n",
       "      <th>1927878</th>\n",
       "      <td>1</td>\n",
       "      <td>53</td>\n",
       "      <td>2</td>\n",
       "      <td>3</td>\n",
       "      <td>4</td>\n",
       "      <td>19</td>\n",
       "    </tr>\n",
       "    <tr>\n",
       "      <th>1927879</th>\n",
       "      <td>5</td>\n",
       "      <td>53</td>\n",
       "      <td>1</td>\n",
       "      <td>8</td>\n",
       "      <td>11</td>\n",
       "      <td>5</td>\n",
       "    </tr>\n",
       "    <tr>\n",
       "      <th>1927880</th>\n",
       "      <td>5</td>\n",
       "      <td>53</td>\n",
       "      <td>1</td>\n",
       "      <td>3</td>\n",
       "      <td>5</td>\n",
       "      <td>6</td>\n",
       "    </tr>\n",
       "  </tbody>\n",
       "</table>\n",
       "<p>1927881 rows × 6 columns</p>\n",
       "</div>"
      ],
      "text/plain": [
       "         clusters  week  user_gender  user_region  price  top\n",
       "0               3     1            2            1      1    3\n",
       "1               3     1            1            5      3    2\n",
       "2               9     1            2            1     12   21\n",
       "3               9     1            2            7      7   22\n",
       "4               9     1            2            1      6   25\n",
       "...           ...   ...          ...          ...    ...  ...\n",
       "1927876         5    53            2            2      2    9\n",
       "1927877         4    53            1            2      2   27\n",
       "1927878         1    53            2            3      4   19\n",
       "1927879         5    53            1            8     11    5\n",
       "1927880         5    53            1            3      5    6\n",
       "\n",
       "[1927881 rows x 6 columns]"
      ]
     },
     "execution_count": 156,
     "metadata": {},
     "output_type": "execute_result"
    }
   ],
   "source": [
    "re5"
   ]
  },
  {
   "cell_type": "code",
   "execution_count": 157,
   "metadata": {
    "scrolled": true
   },
   "outputs": [
    {
     "data": {
      "text/plain": [
       "72666146.07710104"
      ]
     },
     "execution_count": 157,
     "metadata": {},
     "output_type": "execute_result"
    }
   ],
   "source": [
    "kmeans.inertia_"
   ]
  },
  {
   "cell_type": "code",
   "execution_count": 159,
   "metadata": {},
   "outputs": [
    {
     "data": {
      "text/plain": [
       "-107669414.99244279"
      ]
     },
     "execution_count": 159,
     "metadata": {},
     "output_type": "execute_result"
    }
   ],
   "source": [
    "kmeans.score(re5)"
   ]
  },
  {
   "cell_type": "code",
   "execution_count": 160,
   "metadata": {},
   "outputs": [
    {
     "data": {
      "text/plain": [
       "110574715.0742389"
      ]
     },
     "execution_count": 160,
     "metadata": {},
     "output_type": "execute_result"
    }
   ],
   "source": [
    "X_dist = kmeans.transform(re5)\n",
    "np.sum(X_dist[np.arange(len(X_dist)),kmeans.labels_]**2)"
   ]
  },
  {
   "cell_type": "code",
   "execution_count": null,
   "metadata": {},
   "outputs": [],
   "source": []
  },
  {
   "cell_type": "markdown",
   "metadata": {},
   "source": [
    "### mini-batch k means"
   ]
  },
  {
   "cell_type": "code",
   "execution_count": null,
   "metadata": {},
   "outputs": [],
   "source": []
  },
  {
   "cell_type": "code",
   "execution_count": 162,
   "metadata": {},
   "outputs": [
    {
     "data": {
      "text/plain": [
       "MiniBatchKMeans(n_clusters=10, random_state=42)"
      ]
     },
     "execution_count": 162,
     "metadata": {},
     "output_type": "execute_result"
    }
   ],
   "source": [
    "from sklearn.cluster import MiniBatchKMeans\n",
    "\n",
    "minibatch_kmeans = MiniBatchKMeans(n_clusters=10, random_state=42)\n",
    "minibatch_kmeans.fit(re5)"
   ]
  },
  {
   "cell_type": "code",
   "execution_count": 163,
   "metadata": {},
   "outputs": [
    {
     "data": {
      "text/plain": [
       "73136818.90823445"
      ]
     },
     "execution_count": 163,
     "metadata": {},
     "output_type": "execute_result"
    }
   ],
   "source": [
    "minibatch_kmeans.inertia_"
   ]
  },
  {
   "cell_type": "markdown",
   "metadata": {},
   "source": [
    "## k"
   ]
  },
  {
   "cell_type": "code",
   "execution_count": 166,
   "metadata": {},
   "outputs": [],
   "source": [
    "k=5 \n",
    "kmeans5 = KMeans(n_clusters=k,random_state=42) #Determines random number generation for centroid initialization. Use an int to make the randomness deterministic. \n",
    "c5 = kmeans5.fit_predict(re5)"
   ]
  },
  {
   "cell_type": "code",
   "execution_count": 167,
   "metadata": {},
   "outputs": [
    {
     "data": {
      "text/plain": [
       "array([1, 1, 3, ..., 0, 4, 4], dtype=int32)"
      ]
     },
     "execution_count": 167,
     "metadata": {},
     "output_type": "execute_result"
    }
   ],
   "source": [
    "c5"
   ]
  },
  {
   "cell_type": "code",
   "execution_count": 169,
   "metadata": {},
   "outputs": [
    {
     "data": {
      "text/plain": [
       "134166279.48945345"
      ]
     },
     "execution_count": 169,
     "metadata": {},
     "output_type": "execute_result"
    }
   ],
   "source": [
    "kmeans5.inertia_"
   ]
  },
  {
   "cell_type": "code",
   "execution_count": 170,
   "metadata": {},
   "outputs": [],
   "source": [
    "k=50\n",
    "kmeans50 = KMeans(n_clusters=k,random_state=42)\n",
    "c50 = kmeans50.fit_predict(re5)"
   ]
  },
  {
   "cell_type": "code",
   "execution_count": 171,
   "metadata": {},
   "outputs": [
    {
     "data": {
      "text/plain": [
       "array([15, 15, 38, ...,  9, 26, 34], dtype=int32)"
      ]
     },
     "execution_count": 171,
     "metadata": {},
     "output_type": "execute_result"
    }
   ],
   "source": [
    "c50"
   ]
  },
  {
   "cell_type": "code",
   "execution_count": 172,
   "metadata": {},
   "outputs": [
    {
     "data": {
      "text/plain": [
       "28405595.1349858"
      ]
     },
     "execution_count": 172,
     "metadata": {},
     "output_type": "execute_result"
    }
   ],
   "source": [
    "kmeans50.inertia_"
   ]
  },
  {
   "cell_type": "code",
   "execution_count": null,
   "metadata": {},
   "outputs": [],
   "source": []
  },
  {
   "cell_type": "code",
   "execution_count": 39,
   "metadata": {},
   "outputs": [],
   "source": [
    "# k=50\n",
    "# kmeans50 = KMeans(n_clusters=k,random_state=42)\n",
    "# c50 = kmeans50.fit_predict(re5)"
   ]
  },
  {
   "cell_type": "markdown",
   "metadata": {},
   "source": [
    "# Training clustering model to decide the best k. (lower value of inertia)"
   ]
  },
  {
   "cell_type": "code",
   "execution_count": null,
   "metadata": {},
   "outputs": [],
   "source": []
  },
  {
   "cell_type": "code",
   "execution_count": null,
   "metadata": {},
   "outputs": [],
   "source": []
  },
  {
   "cell_type": "code",
   "execution_count": null,
   "metadata": {},
   "outputs": [],
   "source": []
  },
  {
   "cell_type": "code",
   "execution_count": 24,
   "metadata": {},
   "outputs": [],
   "source": [
    "from sklearn.cluster import KMeans\n",
    "import numpy as np\n",
    "from sklearn.datasets import load_iris"
   ]
  },
  {
   "cell_type": "code",
   "execution_count": 61,
   "metadata": {},
   "outputs": [],
   "source": [
    "# estimator = KMeans(n_clusters=5, max_iter=300, n_init=10).fit(result5)"
   ]
  },
  {
   "cell_type": "code",
   "execution_count": 38,
   "metadata": {
    "scrolled": true
   },
   "outputs": [
    {
     "data": {
      "text/html": [
       "<div>\n",
       "<style scoped>\n",
       "    .dataframe tbody tr th:only-of-type {\n",
       "        vertical-align: middle;\n",
       "    }\n",
       "\n",
       "    .dataframe tbody tr th {\n",
       "        vertical-align: top;\n",
       "    }\n",
       "\n",
       "    .dataframe thead th {\n",
       "        text-align: right;\n",
       "    }\n",
       "</style>\n",
       "<table border=\"1\" class=\"dataframe\">\n",
       "  <thead>\n",
       "    <tr style=\"text-align: right;\">\n",
       "      <th></th>\n",
       "      <th>week</th>\n",
       "      <th>user_gender_f</th>\n",
       "      <th>user_gender_m</th>\n",
       "      <th>user_gender_u</th>\n",
       "      <th>top_CD・DVD</th>\n",
       "      <th>top_TV・オーディオ・カメラ</th>\n",
       "      <th>top_おもちゃ</th>\n",
       "      <th>top_インテリア・寝具・収納</th>\n",
       "      <th>top_インナー・下着・ナイトウェア</th>\n",
       "      <th>top_カタログギフト・チケット</th>\n",
       "      <th>...</th>\n",
       "      <th>top_本・雑誌・コミック</th>\n",
       "      <th>top_楽器・音響機器</th>\n",
       "      <th>top_水・ソフトドリンク</th>\n",
       "      <th>top_美容・コスメ・香水</th>\n",
       "      <th>top_腕時計</th>\n",
       "      <th>top_花・ガーデン・DIY</th>\n",
       "      <th>top_車・バイク</th>\n",
       "      <th>top_車用品・バイク用品</th>\n",
       "      <th>top_靴</th>\n",
       "      <th>top_食品</th>\n",
       "    </tr>\n",
       "  </thead>\n",
       "  <tbody>\n",
       "    <tr>\n",
       "      <th>0</th>\n",
       "      <td>1</td>\n",
       "      <td>1</td>\n",
       "      <td>0</td>\n",
       "      <td>0</td>\n",
       "      <td>0</td>\n",
       "      <td>0</td>\n",
       "      <td>0</td>\n",
       "      <td>0</td>\n",
       "      <td>0</td>\n",
       "      <td>0</td>\n",
       "      <td>...</td>\n",
       "      <td>0</td>\n",
       "      <td>0</td>\n",
       "      <td>0</td>\n",
       "      <td>0</td>\n",
       "      <td>0</td>\n",
       "      <td>0</td>\n",
       "      <td>0</td>\n",
       "      <td>0</td>\n",
       "      <td>1</td>\n",
       "      <td>0</td>\n",
       "    </tr>\n",
       "    <tr>\n",
       "      <th>1</th>\n",
       "      <td>1</td>\n",
       "      <td>1</td>\n",
       "      <td>0</td>\n",
       "      <td>0</td>\n",
       "      <td>0</td>\n",
       "      <td>0</td>\n",
       "      <td>0</td>\n",
       "      <td>0</td>\n",
       "      <td>0</td>\n",
       "      <td>0</td>\n",
       "      <td>...</td>\n",
       "      <td>0</td>\n",
       "      <td>0</td>\n",
       "      <td>0</td>\n",
       "      <td>0</td>\n",
       "      <td>0</td>\n",
       "      <td>0</td>\n",
       "      <td>0</td>\n",
       "      <td>0</td>\n",
       "      <td>0</td>\n",
       "      <td>0</td>\n",
       "    </tr>\n",
       "    <tr>\n",
       "      <th>2</th>\n",
       "      <td>1</td>\n",
       "      <td>0</td>\n",
       "      <td>1</td>\n",
       "      <td>0</td>\n",
       "      <td>0</td>\n",
       "      <td>0</td>\n",
       "      <td>0</td>\n",
       "      <td>0</td>\n",
       "      <td>0</td>\n",
       "      <td>0</td>\n",
       "      <td>...</td>\n",
       "      <td>0</td>\n",
       "      <td>0</td>\n",
       "      <td>0</td>\n",
       "      <td>0</td>\n",
       "      <td>0</td>\n",
       "      <td>0</td>\n",
       "      <td>0</td>\n",
       "      <td>0</td>\n",
       "      <td>0</td>\n",
       "      <td>0</td>\n",
       "    </tr>\n",
       "    <tr>\n",
       "      <th>3</th>\n",
       "      <td>1</td>\n",
       "      <td>0</td>\n",
       "      <td>1</td>\n",
       "      <td>0</td>\n",
       "      <td>0</td>\n",
       "      <td>0</td>\n",
       "      <td>0</td>\n",
       "      <td>0</td>\n",
       "      <td>0</td>\n",
       "      <td>0</td>\n",
       "      <td>...</td>\n",
       "      <td>0</td>\n",
       "      <td>0</td>\n",
       "      <td>0</td>\n",
       "      <td>0</td>\n",
       "      <td>0</td>\n",
       "      <td>0</td>\n",
       "      <td>0</td>\n",
       "      <td>0</td>\n",
       "      <td>0</td>\n",
       "      <td>0</td>\n",
       "    </tr>\n",
       "    <tr>\n",
       "      <th>4</th>\n",
       "      <td>1</td>\n",
       "      <td>1</td>\n",
       "      <td>0</td>\n",
       "      <td>0</td>\n",
       "      <td>0</td>\n",
       "      <td>0</td>\n",
       "      <td>0</td>\n",
       "      <td>0</td>\n",
       "      <td>0</td>\n",
       "      <td>0</td>\n",
       "      <td>...</td>\n",
       "      <td>0</td>\n",
       "      <td>0</td>\n",
       "      <td>0</td>\n",
       "      <td>1</td>\n",
       "      <td>0</td>\n",
       "      <td>0</td>\n",
       "      <td>0</td>\n",
       "      <td>0</td>\n",
       "      <td>0</td>\n",
       "      <td>0</td>\n",
       "    </tr>\n",
       "  </tbody>\n",
       "</table>\n",
       "<p>5 rows × 42 columns</p>\n",
       "</div>"
      ],
      "text/plain": [
       "   week  user_gender_f  user_gender_m  user_gender_u  top_CD・DVD   \\\n",
       "0     1              1              0              0            0   \n",
       "1     1              1              0              0            0   \n",
       "2     1              0              1              0            0   \n",
       "3     1              0              1              0            0   \n",
       "4     1              1              0              0            0   \n",
       "\n",
       "   top_TV・オーディオ・カメラ   top_おもちゃ   top_インテリア・寝具・収納   top_インナー・下着・ナイトウェア   \\\n",
       "0                  0          0                 0                    0   \n",
       "1                  0          0                 0                    0   \n",
       "2                  0          0                 0                    0   \n",
       "3                  0          0                 0                    0   \n",
       "4                  0          0                 0                    0   \n",
       "\n",
       "   top_カタログギフト・チケット   ...  top_本・雑誌・コミック   top_楽器・音響機器   top_水・ソフトドリンク   \\\n",
       "0                  0  ...               0             0               0   \n",
       "1                  0  ...               0             0               0   \n",
       "2                  0  ...               0             0               0   \n",
       "3                  0  ...               0             0               0   \n",
       "4                  0  ...               0             0               0   \n",
       "\n",
       "   top_美容・コスメ・香水   top_腕時計   top_花・ガーデン・DIY   top_車・バイク   top_車用品・バイク用品   \\\n",
       "0               0         0                0           0               0   \n",
       "1               0         0                0           0               0   \n",
       "2               0         0                0           0               0   \n",
       "3               0         0                0           0               0   \n",
       "4               1         0                0           0               0   \n",
       "\n",
       "   top_靴   top_食品   \n",
       "0       1        0  \n",
       "1       0        0  \n",
       "2       0        0  \n",
       "3       0        0  \n",
       "4       0        0  \n",
       "\n",
       "[5 rows x 42 columns]"
      ]
     },
     "execution_count": 38,
     "metadata": {},
     "output_type": "execute_result"
    }
   ],
   "source": [
    "result_new = pd.get_dummies(result)\n",
    "result_new.head()"
   ]
  },
  {
   "cell_type": "code",
   "execution_count": 6,
   "metadata": {
    "scrolled": true
   },
   "outputs": [],
   "source": [
    "# result_new = pd.get_dummies(data5)\n",
    "# result_new.head()"
   ]
  },
  {
   "cell_type": "code",
   "execution_count": 39,
   "metadata": {},
   "outputs": [],
   "source": [
    "from sklearn.cluster import KMeans\n",
    "kmeans_model = KMeans(n_clusters=10)\n",
    "clusters = kmeans_model.fit_predict(result_new)\n",
    "# result_cluster=result_new.insert(result_new.columns.get_loc(\"week\"), \"cluster\", clusters)\n",
    "# # result_new.head(100)"
   ]
  },
  {
   "cell_type": "code",
   "execution_count": 42,
   "metadata": {},
   "outputs": [
    {
     "data": {
      "text/html": [
       "<div>\n",
       "<style scoped>\n",
       "    .dataframe tbody tr th:only-of-type {\n",
       "        vertical-align: middle;\n",
       "    }\n",
       "\n",
       "    .dataframe tbody tr th {\n",
       "        vertical-align: top;\n",
       "    }\n",
       "\n",
       "    .dataframe thead th {\n",
       "        text-align: right;\n",
       "    }\n",
       "</style>\n",
       "<table border=\"1\" class=\"dataframe\">\n",
       "  <thead>\n",
       "    <tr style=\"text-align: right;\">\n",
       "      <th></th>\n",
       "      <th>cluster</th>\n",
       "      <th>week</th>\n",
       "      <th>user_gender_f</th>\n",
       "      <th>user_gender_m</th>\n",
       "      <th>user_gender_u</th>\n",
       "      <th>top_CD・DVD</th>\n",
       "      <th>top_TV・オーディオ・カメラ</th>\n",
       "      <th>top_おもちゃ</th>\n",
       "      <th>top_インテリア・寝具・収納</th>\n",
       "      <th>top_インナー・下着・ナイトウェア</th>\n",
       "      <th>...</th>\n",
       "      <th>top_本・雑誌・コミック</th>\n",
       "      <th>top_楽器・音響機器</th>\n",
       "      <th>top_水・ソフトドリンク</th>\n",
       "      <th>top_美容・コスメ・香水</th>\n",
       "      <th>top_腕時計</th>\n",
       "      <th>top_花・ガーデン・DIY</th>\n",
       "      <th>top_車・バイク</th>\n",
       "      <th>top_車用品・バイク用品</th>\n",
       "      <th>top_靴</th>\n",
       "      <th>top_食品</th>\n",
       "    </tr>\n",
       "  </thead>\n",
       "  <tbody>\n",
       "    <tr>\n",
       "      <th>0</th>\n",
       "      <td>3</td>\n",
       "      <td>1</td>\n",
       "      <td>1</td>\n",
       "      <td>0</td>\n",
       "      <td>0</td>\n",
       "      <td>0</td>\n",
       "      <td>0</td>\n",
       "      <td>0</td>\n",
       "      <td>0</td>\n",
       "      <td>0</td>\n",
       "      <td>...</td>\n",
       "      <td>0</td>\n",
       "      <td>0</td>\n",
       "      <td>0</td>\n",
       "      <td>0</td>\n",
       "      <td>0</td>\n",
       "      <td>0</td>\n",
       "      <td>0</td>\n",
       "      <td>0</td>\n",
       "      <td>1</td>\n",
       "      <td>0</td>\n",
       "    </tr>\n",
       "    <tr>\n",
       "      <th>1</th>\n",
       "      <td>3</td>\n",
       "      <td>1</td>\n",
       "      <td>1</td>\n",
       "      <td>0</td>\n",
       "      <td>0</td>\n",
       "      <td>0</td>\n",
       "      <td>0</td>\n",
       "      <td>0</td>\n",
       "      <td>0</td>\n",
       "      <td>0</td>\n",
       "      <td>...</td>\n",
       "      <td>0</td>\n",
       "      <td>0</td>\n",
       "      <td>0</td>\n",
       "      <td>0</td>\n",
       "      <td>0</td>\n",
       "      <td>0</td>\n",
       "      <td>0</td>\n",
       "      <td>0</td>\n",
       "      <td>0</td>\n",
       "      <td>0</td>\n",
       "    </tr>\n",
       "    <tr>\n",
       "      <th>2</th>\n",
       "      <td>3</td>\n",
       "      <td>1</td>\n",
       "      <td>0</td>\n",
       "      <td>1</td>\n",
       "      <td>0</td>\n",
       "      <td>0</td>\n",
       "      <td>0</td>\n",
       "      <td>0</td>\n",
       "      <td>0</td>\n",
       "      <td>0</td>\n",
       "      <td>...</td>\n",
       "      <td>0</td>\n",
       "      <td>0</td>\n",
       "      <td>0</td>\n",
       "      <td>0</td>\n",
       "      <td>0</td>\n",
       "      <td>0</td>\n",
       "      <td>0</td>\n",
       "      <td>0</td>\n",
       "      <td>0</td>\n",
       "      <td>0</td>\n",
       "    </tr>\n",
       "    <tr>\n",
       "      <th>3</th>\n",
       "      <td>3</td>\n",
       "      <td>1</td>\n",
       "      <td>0</td>\n",
       "      <td>1</td>\n",
       "      <td>0</td>\n",
       "      <td>0</td>\n",
       "      <td>0</td>\n",
       "      <td>0</td>\n",
       "      <td>0</td>\n",
       "      <td>0</td>\n",
       "      <td>...</td>\n",
       "      <td>0</td>\n",
       "      <td>0</td>\n",
       "      <td>0</td>\n",
       "      <td>0</td>\n",
       "      <td>0</td>\n",
       "      <td>0</td>\n",
       "      <td>0</td>\n",
       "      <td>0</td>\n",
       "      <td>0</td>\n",
       "      <td>0</td>\n",
       "    </tr>\n",
       "    <tr>\n",
       "      <th>4</th>\n",
       "      <td>3</td>\n",
       "      <td>1</td>\n",
       "      <td>1</td>\n",
       "      <td>0</td>\n",
       "      <td>0</td>\n",
       "      <td>0</td>\n",
       "      <td>0</td>\n",
       "      <td>0</td>\n",
       "      <td>0</td>\n",
       "      <td>0</td>\n",
       "      <td>...</td>\n",
       "      <td>0</td>\n",
       "      <td>0</td>\n",
       "      <td>0</td>\n",
       "      <td>1</td>\n",
       "      <td>0</td>\n",
       "      <td>0</td>\n",
       "      <td>0</td>\n",
       "      <td>0</td>\n",
       "      <td>0</td>\n",
       "      <td>0</td>\n",
       "    </tr>\n",
       "  </tbody>\n",
       "</table>\n",
       "<p>5 rows × 43 columns</p>\n",
       "</div>"
      ],
      "text/plain": [
       "   cluster  week  user_gender_f  user_gender_m  user_gender_u  top_CD・DVD   \\\n",
       "0        3     1              1              0              0            0   \n",
       "1        3     1              1              0              0            0   \n",
       "2        3     1              0              1              0            0   \n",
       "3        3     1              0              1              0            0   \n",
       "4        3     1              1              0              0            0   \n",
       "\n",
       "   top_TV・オーディオ・カメラ   top_おもちゃ   top_インテリア・寝具・収納   top_インナー・下着・ナイトウェア   ...  \\\n",
       "0                  0          0                 0                    0  ...   \n",
       "1                  0          0                 0                    0  ...   \n",
       "2                  0          0                 0                    0  ...   \n",
       "3                  0          0                 0                    0  ...   \n",
       "4                  0          0                 0                    0  ...   \n",
       "\n",
       "   top_本・雑誌・コミック   top_楽器・音響機器   top_水・ソフトドリンク   top_美容・コスメ・香水   top_腕時計   \\\n",
       "0               0             0               0               0         0   \n",
       "1               0             0               0               0         0   \n",
       "2               0             0               0               0         0   \n",
       "3               0             0               0               0         0   \n",
       "4               0             0               0               1         0   \n",
       "\n",
       "   top_花・ガーデン・DIY   top_車・バイク   top_車用品・バイク用品   top_靴   top_食品   \n",
       "0                0           0               0       1        0  \n",
       "1                0           0               0       0        0  \n",
       "2                0           0               0       0        0  \n",
       "3                0           0               0       0        0  \n",
       "4                0           0               0       0        0  \n",
       "\n",
       "[5 rows x 43 columns]"
      ]
     },
     "execution_count": 42,
     "metadata": {},
     "output_type": "execute_result"
    }
   ],
   "source": [
    "result_new.head(5)"
   ]
  },
  {
   "cell_type": "code",
   "execution_count": 43,
   "metadata": {
    "scrolled": true
   },
   "outputs": [
    {
     "data": {
      "text/plain": [
       "1304270"
      ]
     },
     "execution_count": 43,
     "metadata": {},
     "output_type": "execute_result"
    }
   ],
   "source": [
    "len(result_new)"
   ]
  },
  {
   "cell_type": "code",
   "execution_count": null,
   "metadata": {},
   "outputs": [],
   "source": []
  },
  {
   "cell_type": "code",
   "execution_count": null,
   "metadata": {},
   "outputs": [],
   "source": []
  },
  {
   "cell_type": "code",
   "execution_count": 27,
   "metadata": {},
   "outputs": [
    {
     "data": {
      "text/plain": [
       "<AxesSubplot:>"
      ]
     },
     "execution_count": 27,
     "metadata": {},
     "output_type": "execute_result"
    },
    {
     "data": {
      "image/png": "[encoded data removed]",
      "text/plain": [
       "<Figure size 432x288 with 2 Axes>"
      ]
     },
     "metadata": {
      "needs_background": "light"
     },
     "output_type": "display_data"
    }
   ],
   "source": [
    "import seaborn as sns\n",
    "sns.heatmap(re5)"
   ]
  },
  {
   "cell_type": "code",
   "execution_count": 37,
   "metadata": {},
   "outputs": [],
   "source": [
    "# # df_X = re5.pivot(\"week\",\"top\",\"price\")\n",
    "# # ax = sns.heatmap(df_X)\n",
    "# import matplotlib as plt\n",
    "# pivot = re5.pivot(index='week', columns='top', values='price')\n",
    "# ax = sns.heatmap(pivot, annot=True)\n",
    "# plt.show()"
   ]
  },
  {
   "cell_type": "code",
   "execution_count": 23,
   "metadata": {},
   "outputs": [
    {
     "data": {
      "text/html": [
       "<div>\n",
       "<style scoped>\n",
       "    .dataframe tbody tr th:only-of-type {\n",
       "        vertical-align: middle;\n",
       "    }\n",
       "\n",
       "    .dataframe tbody tr th {\n",
       "        vertical-align: top;\n",
       "    }\n",
       "\n",
       "    .dataframe thead th {\n",
       "        text-align: right;\n",
       "    }\n",
       "</style>\n",
       "<table border=\"1\" class=\"dataframe\">\n",
       "  <thead>\n",
       "    <tr style=\"text-align: right;\">\n",
       "      <th></th>\n",
       "      <th>week</th>\n",
       "      <th>user_gender</th>\n",
       "      <th>user_region</th>\n",
       "      <th>price</th>\n",
       "      <th>top</th>\n",
       "    </tr>\n",
       "  </thead>\n",
       "  <tbody>\n",
       "    <tr>\n",
       "      <th>0</th>\n",
       "      <td>1</td>\n",
       "      <td>2</td>\n",
       "      <td>1</td>\n",
       "      <td>1</td>\n",
       "      <td>3</td>\n",
       "    </tr>\n",
       "    <tr>\n",
       "      <th>1</th>\n",
       "      <td>1</td>\n",
       "      <td>1</td>\n",
       "      <td>5</td>\n",
       "      <td>3</td>\n",
       "      <td>2</td>\n",
       "    </tr>\n",
       "    <tr>\n",
       "      <th>2</th>\n",
       "      <td>1</td>\n",
       "      <td>2</td>\n",
       "      <td>1</td>\n",
       "      <td>12</td>\n",
       "      <td>21</td>\n",
       "    </tr>\n",
       "    <tr>\n",
       "      <th>3</th>\n",
       "      <td>1</td>\n",
       "      <td>2</td>\n",
       "      <td>7</td>\n",
       "      <td>7</td>\n",
       "      <td>22</td>\n",
       "    </tr>\n",
       "    <tr>\n",
       "      <th>4</th>\n",
       "      <td>1</td>\n",
       "      <td>2</td>\n",
       "      <td>1</td>\n",
       "      <td>6</td>\n",
       "      <td>25</td>\n",
       "    </tr>\n",
       "    <tr>\n",
       "      <th>...</th>\n",
       "      <td>...</td>\n",
       "      <td>...</td>\n",
       "      <td>...</td>\n",
       "      <td>...</td>\n",
       "      <td>...</td>\n",
       "    </tr>\n",
       "    <tr>\n",
       "      <th>1927876</th>\n",
       "      <td>53</td>\n",
       "      <td>2</td>\n",
       "      <td>2</td>\n",
       "      <td>2</td>\n",
       "      <td>9</td>\n",
       "    </tr>\n",
       "    <tr>\n",
       "      <th>1927877</th>\n",
       "      <td>53</td>\n",
       "      <td>1</td>\n",
       "      <td>2</td>\n",
       "      <td>2</td>\n",
       "      <td>27</td>\n",
       "    </tr>\n",
       "    <tr>\n",
       "      <th>1927878</th>\n",
       "      <td>53</td>\n",
       "      <td>2</td>\n",
       "      <td>3</td>\n",
       "      <td>4</td>\n",
       "      <td>19</td>\n",
       "    </tr>\n",
       "    <tr>\n",
       "      <th>1927879</th>\n",
       "      <td>53</td>\n",
       "      <td>1</td>\n",
       "      <td>8</td>\n",
       "      <td>11</td>\n",
       "      <td>5</td>\n",
       "    </tr>\n",
       "    <tr>\n",
       "      <th>1927880</th>\n",
       "      <td>53</td>\n",
       "      <td>1</td>\n",
       "      <td>3</td>\n",
       "      <td>5</td>\n",
       "      <td>6</td>\n",
       "    </tr>\n",
       "  </tbody>\n",
       "</table>\n",
       "<p>1927881 rows × 5 columns</p>\n",
       "</div>"
      ],
      "text/plain": [
       "         week  user_gender  user_region  price  top\n",
       "0           1            2            1      1    3\n",
       "1           1            1            5      3    2\n",
       "2           1            2            1     12   21\n",
       "3           1            2            7      7   22\n",
       "4           1            2            1      6   25\n",
       "...       ...          ...          ...    ...  ...\n",
       "1927876    53            2            2      2    9\n",
       "1927877    53            1            2      2   27\n",
       "1927878    53            2            3      4   19\n",
       "1927879    53            1            8     11    5\n",
       "1927880    53            1            3      5    6\n",
       "\n",
       "[1927881 rows x 5 columns]"
      ]
     },
     "execution_count": 23,
     "metadata": {},
     "output_type": "execute_result"
    }
   ],
   "source": [
    "re5"
   ]
  },
  {
   "cell_type": "code",
   "execution_count": 26,
   "metadata": {
    "scrolled": false
   },
   "outputs": [
    {
     "name": "stdout",
     "output_type": "stream",
     "text": [
      "1\n",
      "[0 0 0 ... 0 0 0]\n",
      "2\n",
      "[0 0 0 ... 1 1 1]\n",
      "3\n",
      "[1 1 1 ... 0 0 0]\n",
      "4\n",
      "[1 1 1 ... 0 0 0]\n",
      "5\n",
      "[1 1 3 ... 0 2 2]\n",
      "6\n",
      "[1 1 1 ... 5 0 0]\n",
      "7\n",
      "[1 1 6 ... 5 0 0]\n",
      "8\n",
      "[0 0 5 ... 4 1 1]\n",
      "9\n",
      "[8 8 6 ... 0 3 3]\n",
      "10\n",
      "[9 9 5 ... 6 2 2]\n",
      "11\n",
      "[3 3 6 ... 0 7 7]\n",
      "12\n",
      "[ 7  7  6 ...  8 10  0]\n",
      "13\n",
      "[ 7  7  6 ...  8 10  0]\n",
      "14\n",
      "[ 7  7  6 ...  8 10  0]\n",
      "15\n",
      "[ 7  7  6 ...  8 10  0]\n",
      "16\n",
      "[ 2  2  7 ...  3 15  0]\n",
      "17\n",
      "[ 2  2  7 ...  3 15  0]\n",
      "18\n",
      "[ 7  7  6 ...  8 10  0]\n",
      "19\n",
      "[ 2  2  7 ... 16 18  0]\n",
      "20\n",
      "[12 12 14 ... 15  1  5]\n",
      "21\n",
      "[19 19  3 ...  0 12  4]\n",
      "22\n",
      "[19 19  3 ...  0 12  4]\n",
      "23\n",
      "[12 12  2 ...  8  1  9]\n",
      "24\n",
      "[12 12 23 ...  8  1  9]\n",
      "25\n",
      "[12 12 23 ... 24  1  9]\n",
      "26\n",
      "[12 12 23 ...  8  1  9]\n",
      "27\n",
      "[26 26 23 ...  8  1  9]\n",
      "28\n",
      "[19 19  3 ...  0 12  4]\n",
      "29\n",
      "[19 19  3 ...  0 12  4]\n",
      "30\n",
      "[ 9  9 22 ...  3 23  0]\n",
      "31\n",
      "[19 19  3 ...  0 12 29]\n",
      "32\n",
      "[ 9  9 22 ...  3 31 23]\n",
      "33\n",
      "[ 9  9 22 ...  3 31 23]\n",
      "34\n",
      "[ 9  9 22 ...  3 31 23]\n",
      "35\n",
      "[ 6  6 32 ...  0 18  9]\n",
      "36\n",
      "[26 26 23 ...  8  1  9]\n",
      "37\n",
      "[26 26 23 ...  8  1  9]\n",
      "38\n",
      "[26 26 23 ...  8  1  9]\n",
      "39\n",
      "[26 26 23 ... 38  1 25]\n",
      "40\n",
      "[26 26 23 ... 38  1 25]\n",
      "41\n",
      "[26 26 23 ... 38  1 25]\n",
      "42\n",
      "[26 26 23 ... 38  1  9]\n",
      "43\n",
      "[34 34  6 ... 14  1 25]\n",
      "44\n",
      "[26 26 23 ... 38  1 25]\n",
      "45\n",
      "[ 6  6 32 ...  0 42  9]\n",
      "46\n",
      "[ 6  6 32 ...  0 42  9]\n",
      "47\n",
      "[ 0  0 40 ...  5 18 42]\n",
      "48\n",
      "[ 6  6 32 ...  0 42  9]\n",
      "49\n",
      "[15 15  7 ... 22 28  4]\n",
      "50\n",
      "[15 15  7 ... 22 28  4]\n",
      "51\n",
      "[15 15  7 ... 22 28  4]\n",
      "52\n",
      "[48 48 34 ... 11 16  6]\n",
      "53\n",
      "[48 48 34 ... 11 16  6]\n",
      "54\n",
      "[44 44 16 ... 18 42  2]\n",
      "55\n",
      "[30 30 44 ...  0  5 35]\n",
      "56\n",
      "[30 30 44 ...  0  5 35]\n",
      "57\n",
      "[48 48 34 ...  0 33 35]\n",
      "58\n",
      "[30 30 44 ... 29  5 56]\n",
      "59\n",
      "[ 0  0 23 ...  7 33  4]\n",
      "60\n",
      "[ 0  0 23 ...  7 33 49]\n",
      "61\n",
      "[46 46 35 ...  0 13 52]\n",
      "62\n",
      "[46 46 35 ...  0 13 52]\n",
      "63\n",
      "[54 54 48 ... 26 43 12]\n",
      "64\n",
      "[ 0  0 23 ...  7 33 49]\n",
      "65\n",
      "[54 54 48 ... 26 43 12]\n",
      "66\n",
      "[46 46 35 ...  0 13 52]\n",
      "67\n",
      "[46 46 35 ...  0 13 52]\n",
      "68\n",
      "[46 46 35 ...  0 13 52]\n",
      "69\n",
      "[46 46 35 ...  0 13 52]\n",
      "70\n",
      "[46 46 35 ...  0 13 52]\n",
      "71\n",
      "[30 30 44 ... 61 69 56]\n",
      "72\n",
      "[46 46 35 ...  0 13 52]\n",
      "73\n",
      "[50 50 52 ... 33 35  2]\n",
      "74\n",
      "[50 50 52 ... 33 35  2]\n",
      "75\n",
      "[ 0  0 23 ...  7 33  4]\n",
      "76\n",
      "[ 0  0 23 ...  7 33  4]\n",
      "77\n",
      "[76  0 23 ...  7 33  4]\n",
      "78\n",
      "[54 54 48 ... 26 43 12]\n",
      "79\n",
      "[30 30 44 ... 61 69 73]\n",
      "80\n",
      "[30 30 44 ... 61 69 73]\n",
      "81\n",
      "[43 43 54 ... 57 38 42]\n",
      "82\n",
      "[30 30 44 ... 61 69 73]\n",
      "83\n",
      "[43 43 54 ... 57 38 42]\n",
      "84\n",
      "[43 43 54 ... 57 38 42]\n",
      "85\n",
      "[43 43 54 ... 57 38 42]\n",
      "86\n",
      "[43 43 54 ... 57 38 42]\n",
      "87\n",
      "[43 43 54 ... 57 38 42]\n",
      "88\n",
      "[44 52 70 ... 83 12 30]\n",
      "89\n",
      "[44 52 70 ... 83 12 30]\n",
      "90\n",
      "[54 54 87 ... 26 43 12]\n",
      "91\n",
      "[90 90 70 ... 83 12 30]\n",
      "92\n",
      "[90 90 70 ... 83 12 30]\n",
      "93\n",
      "[90 90 70 ... 83 12 30]\n",
      "94\n",
      "[90 90 70 ... 83 12 30]\n",
      "95\n",
      "[54 54 87 ... 26 43 12]\n",
      "96\n",
      "[90 90 70 ... 83 12 30]\n",
      "97\n",
      "[90 90 70 ... 83 12 30]\n",
      "98\n",
      "[54 54 87 ... 26 43 12]\n",
      "99\n",
      "[78  0 92 ...  7 97 79]\n"
     ]
    }
   ],
   "source": [
    "for k in range(1,100):\n",
    "    n_clusters = k \n",
    "    print(n_clusters)\n",
    "    kmeans_k = KMeans(n_clusters=n_clusters,random_state=42)\n",
    "#     print(kmeans_k)\n",
    "    c_k = kmeans_k.fit_predict(re5)\n",
    "#     c_k=kmeans_k.fit_predict(re5)\n",
    "    print(c_k)"
   ]
  },
  {
   "cell_type": "code",
   "execution_count": 32,
   "metadata": {},
   "outputs": [],
   "source": [
    "# for k in range(100):\n",
    "#     c_k = kmeans_k.fit_predict(re5)\n",
    "#     print(c_k)\n",
    "import numpy\n",
    "# a = numpy.asarray([ [1,2,3], [4,5,6], [7,8,9] ])\n",
    "numpy.savetxt(\"/Users/karasu/Downloads/c_k.csv\",c_k, delimiter=\",\")\n",
    "# c_k.to_txt('/Users/karasu/Downloads/ck1.txt')"
   ]
  },
  {
   "cell_type": "code",
   "execution_count": 33,
   "metadata": {},
   "outputs": [],
   "source": [
    "pd.DataFrame(c_k).to_csv('/Users/karasu/Downloads/ck.csv') \n",
    "# c #100"
   ]
  },
  {
   "cell_type": "code",
   "execution_count": 35,
   "metadata": {
    "scrolled": false
   },
   "outputs": [
    {
     "name": "stdout",
     "output_type": "stream",
     "text": [
      "1\n",
      "566564834.7145574\n",
      "2\n",
      "254917011.30262935\n",
      "3\n",
      "197401252.41924468\n",
      "4\n",
      "154659768.97158158\n",
      "5\n",
      "121119016.06843995\n",
      "6\n",
      "104826784.71927053\n",
      "7\n",
      "91539778.76913221\n",
      "8\n",
      "84141103.6548233\n",
      "9\n",
      "77754120.28475058\n",
      "10\n",
      "72638479.72002438\n",
      "11\n",
      "67642392.76555704\n",
      "12\n",
      "64390744.127639785\n",
      "13\n",
      "60877867.579548016\n",
      "14\n",
      "58177913.532154754\n",
      "15\n",
      "55832127.91843796\n",
      "16\n",
      "53331197.50373752\n",
      "17\n",
      "51063275.22793386\n",
      "18\n",
      "49105610.88442301\n",
      "19\n",
      "47657407.106088646\n",
      "20\n",
      "46206842.86480875\n",
      "21\n",
      "44987791.13937944\n",
      "22\n",
      "43674066.97228455\n",
      "23\n",
      "42503330.866516806\n",
      "24\n",
      "41320780.68420675\n",
      "25\n",
      "40369540.768538594\n",
      "26\n",
      "39459273.351984605\n",
      "27\n",
      "38525254.31483977\n",
      "28\n",
      "37674110.73297114\n",
      "29\n",
      "36829147.02522082\n",
      "30\n",
      "36393823.29295835\n",
      "31\n",
      "35659573.81247103\n",
      "32\n",
      "34960220.68245934\n",
      "33\n",
      "34541734.9433483\n",
      "34\n",
      "33936713.06697593\n",
      "35\n",
      "33400905.10216736\n",
      "36\n",
      "32851100.946509775\n",
      "37\n",
      "32438544.498555914\n",
      "38\n",
      "31788499.071216244\n",
      "39\n",
      "31384619.043254558\n",
      "40\n",
      "30979362.71991212\n",
      "41\n",
      "30612930.30136045\n",
      "42\n",
      "30182514.953946948\n",
      "43\n",
      "29742307.27432901\n",
      "44\n",
      "29222888.96350452\n",
      "45\n",
      "28955356.51818412\n",
      "46\n",
      "28467776.416276027\n",
      "47\n",
      "28057743.606052697\n",
      "48\n",
      "27854418.340335023\n",
      "49\n",
      "27429818.417910922\n",
      "50\n",
      "27154831.412969224\n",
      "51\n",
      "26825862.18635579\n",
      "52\n",
      "26485212.331001554\n",
      "53\n",
      "26228155.448046662\n",
      "54\n",
      "26036951.948004838\n",
      "55\n",
      "25841979.833145145\n",
      "56\n",
      "25526499.836781036\n",
      "57\n",
      "25300494.01915889\n",
      "58\n",
      "24988412.3398823\n",
      "59\n",
      "24698803.119025555\n",
      "60\n",
      "24464221.11348163\n",
      "61\n",
      "24196728.560609\n",
      "62\n",
      "23972988.350920916\n",
      "63\n",
      "23766105.02240761\n",
      "64\n",
      "23593726.909083657\n",
      "65\n",
      "23391541.80068905\n",
      "66\n",
      "23199030.408959955\n",
      "67\n",
      "23008485.438341044\n",
      "68\n",
      "22841588.18286918\n",
      "69\n",
      "22635620.24645608\n",
      "70\n",
      "22470041.758306485\n",
      "71\n",
      "22304985.764971957\n",
      "72\n",
      "22117419.705788936\n",
      "73\n",
      "21991027.24900788\n",
      "74\n",
      "21857070.35174504\n",
      "75\n",
      "21682267.057010125\n",
      "76\n",
      "21499634.95937638\n",
      "77\n",
      "21361447.465642568\n",
      "78\n",
      "21340395.45691252\n",
      "79\n",
      "21139615.502819765\n",
      "80\n",
      "20992787.140456628\n",
      "81\n",
      "20833567.852910794\n",
      "82\n",
      "20695055.053885397\n",
      "83\n",
      "20568422.296876475\n",
      "84\n",
      "20397067.48837491\n",
      "85\n",
      "20303378.239180375\n",
      "86\n",
      "20210601.446313515\n",
      "87\n",
      "20047289.767004568\n",
      "88\n",
      "19913356.313403443\n",
      "89\n",
      "19787658.890278213\n",
      "90\n",
      "19680163.125777893\n",
      "91\n",
      "19527036.804770455\n",
      "92\n",
      "19422745.24251513\n",
      "93\n",
      "19355399.134742007\n",
      "94\n",
      "19208423.274921507\n",
      "95\n",
      "19087964.240555417\n",
      "96\n",
      "18991387.737916816\n",
      "97\n",
      "18882614.47709164\n",
      "98\n",
      "18801340.004729494\n",
      "99\n",
      "18698078.557872433\n"
     ]
    }
   ],
   "source": [
    "for k in range(1,100):\n",
    "    n_clusters = k \n",
    "    print(n_clusters)\n",
    "    kmeans_k = KMeans(n_clusters=n_clusters,random_state=42)\n",
    "#     print(kmeans_k)\n",
    "    c_k = kmeans_k.fit_predict(re5)\n",
    "    kmeans_k.inertia_\n",
    "#     c_k=kmeans_k.fit_predict(re5)\n",
    "    print(kmeans_k.inertia_)"
   ]
  },
  {
   "cell_type": "code",
   "execution_count": 39,
   "metadata": {},
   "outputs": [],
   "source": [
    "# pd.DataFrame(kmeans_k.inertia_).to_csv('/Users/karasu/Downloads/inertia_k.csv') \n",
    "# numpy.savetxt(\"/Users/karasu/Downloads/inertia_k.csv\",kmeans_k.inertia_, delimiter=\",\")"
   ]
  },
  {
   "cell_type": "code",
   "execution_count": 51,
   "metadata": {},
   "outputs": [],
   "source": [
    "inertia=pd.read_csv('/Users/karasu/Downloads/inertia_k.csv',header=None)"
   ]
  },
  {
   "cell_type": "code",
   "execution_count": 66,
   "metadata": {
    "scrolled": true
   },
   "outputs": [
    {
     "data": {
      "text/plain": [
       "<AxesSubplot:>"
      ]
     },
     "execution_count": 66,
     "metadata": {},
     "output_type": "execute_result"
    },
    {
     "data": {
      "image/png": "[encoded data removed]",
      "text/plain": [
       "<Figure size 432x288 with 1 Axes>"
      ]
     },
     "metadata": {
      "needs_background": "light"
     },
     "output_type": "display_data"
    }
   ],
   "source": [
    "inertia.plot(kind='line',marker=\"+\",grid=True,legend=False,x_compat=True)#figure_size=(10,10)"
   ]
  },
  {
   "cell_type": "code",
   "execution_count": null,
   "metadata": {},
   "outputs": [],
   "source": []
  },
  {
   "cell_type": "code",
   "execution_count": 85,
   "metadata": {},
   "outputs": [],
   "source": [
    "#weektop=week + top\n",
    "test1= [re5['week'], re5['top']]\n",
    "weektop = pd.concat(test1,axis=1)"
   ]
  },
  {
   "cell_type": "markdown",
   "metadata": {},
   "source": [
    "### use kmeans to cluster week and top in range(1,50)"
   ]
  },
  {
   "cell_type": "code",
   "execution_count": 88,
   "metadata": {},
   "outputs": [
    {
     "name": "stdout",
     "output_type": "stream",
     "text": [
      "1\n",
      "[0 0 0 ... 0 0 0]\n",
      "2\n",
      "[0 0 0 ... 1 1 1]\n",
      "3\n",
      "[0 0 0 ... 1 1 1]\n",
      "4\n",
      "[1 1 1 ... 0 0 0]\n",
      "5\n",
      "[1 1 4 ... 2 0 0]\n",
      "6\n",
      "[4 4 4 ... 0 3 3]\n",
      "7\n",
      "[5 5 1 ... 0 2 2]\n",
      "8\n",
      "[7 7 3 ... 5 0 0]\n",
      "9\n",
      "[3 3 1 ... 4 2 2]\n",
      "10\n",
      "[5 5 6 ... 2 0 0]\n",
      "11\n",
      "[7 7 9 ... 8 0 0]\n",
      "12\n",
      "[7 7 9 ... 8 0 0]\n",
      "13\n",
      "[ 7  7 11 ...  3  0  0]\n",
      "14\n",
      "[ 7  7 11 ...  3  0  0]\n",
      "15\n",
      "[ 7  7 13 ...  3  0  0]\n",
      "16\n",
      "[ 0  0 10 ...  6 11 11]\n",
      "17\n",
      "[6 6 8 ... 0 7 7]\n",
      "18\n",
      "[ 5  5 17 ...  2  0  0]\n",
      "19\n",
      "[ 7  7 14 ...  0  9  9]\n",
      "20\n",
      "[ 4  4 14 ... 13 11 11]\n",
      "21\n",
      "[ 4  4  5 ...  0 12 12]\n",
      "22\n",
      "[ 0  0 12 ... 17  9  9]\n",
      "23\n",
      "[ 4  4  5 ...  0 12 12]\n",
      "24\n",
      "[ 4  4  5 ...  0 12 12]\n",
      "25\n",
      "[20 20 12 ... 18  4 17]\n",
      "26\n",
      "[ 4  4  5 ...  0 12 12]\n",
      "27\n",
      "[23 23 17 ...  8  1  1]\n",
      "28\n",
      "[17 17 12 ... 18 27 27]\n",
      "29\n",
      "[ 6  6 11 ... 27 20 20]\n",
      "30\n",
      "[ 6  6 19 ... 27 20 20]\n",
      "31\n",
      "[ 9  9 24 ...  8 12 12]\n",
      "32\n",
      "[ 9  9 24 ...  8 12 12]\n",
      "33\n",
      "[ 9  9 24 ...  8 12 12]\n",
      "34\n",
      "[11 11 16 ... 24  4  4]\n",
      "35\n",
      "[11 11 12 ... 24  4  4]\n",
      "36\n",
      "[11 11 12 ... 24  4  4]\n",
      "37\n",
      "[20 20 30 ... 31 27 27]\n",
      "38\n",
      "[ 9  9 24 ... 35 12 12]\n",
      "39\n",
      "[11 11 36 ... 24  4  4]\n",
      "40\n",
      "[ 9  9 38 ... 35 12 12]\n",
      "41\n",
      "[17 17 12 ... 18 27 27]\n",
      "42\n",
      "[ 4  4 37 ...  0 26 26]\n",
      "43\n",
      "[30 30 19 ... 36 42 42]\n",
      "44\n",
      "[30 30 19 ... 36 42 42]\n",
      "45\n",
      "[30 30 19 ... 36 42 42]\n",
      "46\n",
      "[20 20 44 ...  5 40 40]\n",
      "47\n",
      "[40 40 12 ... 11 28 28]\n",
      "48\n",
      "[20 20 44 ...  5 40 40]\n",
      "49\n",
      "[20 20 44 ...  5 40 40]\n"
     ]
    }
   ],
   "source": [
    "for k in range(1,50):\n",
    "    n_clusters = k \n",
    "    print(n_clusters)\n",
    "    kmeans_kt = KMeans(n_clusters=n_clusters,random_state=42)\n",
    "    top_k = kmeans_kt.fit_predict(weektop)\n",
    "    print(top_k)"
   ]
  },
  {
   "cell_type": "code",
   "execution_count": 99,
   "metadata": {
    "scrolled": false
   },
   "outputs": [
    {
     "name": "stdout",
     "output_type": "stream",
     "text": [
      "1\n",
      "538779391.588538\n",
      "2\n",
      "227164839.58052963\n",
      "3\n",
      "169678191.84820676\n",
      "4\n",
      "127151073.60222974\n",
      "5\n",
      "93613315.64484419\n",
      "6\n",
      "77311121.26535115\n",
      "7\n",
      "63953809.552553\n",
      "8\n",
      "56792539.99717134\n",
      "9\n",
      "50318031.99912757\n",
      "10\n",
      "45356751.61750028\n",
      "11\n",
      "40448572.093474135\n",
      "12\n",
      "36931898.94371054\n",
      "13\n",
      "34206579.09966567\n",
      "14\n",
      "31627546.298094664\n",
      "15\n",
      "29262445.436777446\n",
      "16\n",
      "27583695.322708156\n",
      "17\n",
      "26435473.685806636\n",
      "18\n",
      "24858136.134928674\n",
      "19\n",
      "23564146.359360483\n",
      "20\n",
      "22544122.988141805\n",
      "21\n",
      "21353719.32290351\n",
      "22\n",
      "20577152.94253771\n",
      "23\n",
      "19360624.292836647\n",
      "24\n",
      "18534037.913920574\n",
      "25\n",
      "17948674.124545727\n",
      "26\n",
      "17401789.508099884\n",
      "27\n",
      "16679931.16171491\n",
      "28\n",
      "16104871.501097102\n",
      "29\n",
      "15456323.080265122\n",
      "30\n",
      "14996802.538214317\n",
      "31\n",
      "14504807.002346037\n",
      "32\n",
      "13977348.246958805\n",
      "33\n",
      "13586133.280893326\n",
      "34\n",
      "13156041.979828361\n",
      "35\n",
      "12785949.59057714\n",
      "36\n",
      "12534078.530211875\n",
      "37\n",
      "12242887.067744669\n",
      "38\n",
      "11789164.524966048\n",
      "39\n",
      "11527190.04526923\n",
      "40\n",
      "11259968.406867474\n",
      "41\n",
      "10987406.585628727\n",
      "42\n",
      "10770378.181701584\n",
      "43\n",
      "10471300.650442932\n",
      "44\n",
      "10158790.074914413\n",
      "45\n",
      "9955683.383200362\n",
      "46\n",
      "9837127.688881349\n",
      "47\n",
      "9619541.632818071\n",
      "48\n",
      "9390824.673642123\n",
      "49\n",
      "9112070.034822268\n"
     ]
    }
   ],
   "source": [
    "## the value of inertia in k=range(1,50), data=week+top\n",
    "for k in range(1,50):\n",
    "    n_clusters = k \n",
    "    print(n_clusters)\n",
    "    kmeans_kt = KMeans(n_clusters=n_clusters,random_state=42)\n",
    "    top_k = kmeans_kt.fit_predict(weektop)\n",
    "    kmeans_kt.inertia_\n",
    "    print(kmeans_kt.inertia_)"
   ]
  },
  {
   "cell_type": "code",
   "execution_count": 100,
   "metadata": {},
   "outputs": [],
   "source": [
    "inertia_kt=pd.read_csv('/Users/karasu/Downloads/inertia_kt.csv',header=None)"
   ]
  },
  {
   "cell_type": "code",
   "execution_count": 101,
   "metadata": {
    "scrolled": false
   },
   "outputs": [
    {
     "data": {
      "text/plain": [
       "<AxesSubplot:>"
      ]
     },
     "execution_count": 101,
     "metadata": {},
     "output_type": "execute_result"
    },
    {
     "data": {
      "image/png": "[encoded data removed]",
      "text/plain": [
       "<Figure size 432x288 with 1 Axes>"
      ]
     },
     "metadata": {
      "needs_background": "light"
     },
     "output_type": "display_data"
    }
   ],
   "source": [
    "inertia_kt.plot(kind='line',marker=\"+\",grid=True,legend=False,x_compat=True)#figure_size=(10,10)"
   ]
  },
  {
   "cell_type": "code",
   "execution_count": 128,
   "metadata": {},
   "outputs": [],
   "source": [
    "# \"elbow\" in re5 of k=5\n",
    "kmeans_model5 = KMeans(n_clusters=5)\n",
    "clusters5 = kmeans_model5.fit_predict(r5)\n",
    "# r5_new=r5.insert(r5.columns.get_loc(\"week\"), \"cluster\", clusters5)"
   ]
  },
  {
   "cell_type": "code",
   "execution_count": 129,
   "metadata": {
    "scrolled": false
   },
   "outputs": [
    {
     "data": {
      "text/html": [
       "<div>\n",
       "<style scoped>\n",
       "    .dataframe tbody tr th:only-of-type {\n",
       "        vertical-align: middle;\n",
       "    }\n",
       "\n",
       "    .dataframe tbody tr th {\n",
       "        vertical-align: top;\n",
       "    }\n",
       "\n",
       "    .dataframe thead th {\n",
       "        text-align: right;\n",
       "    }\n",
       "</style>\n",
       "<table border=\"1\" class=\"dataframe\">\n",
       "  <thead>\n",
       "    <tr style=\"text-align: right;\">\n",
       "      <th></th>\n",
       "      <th>cluster</th>\n",
       "      <th>week</th>\n",
       "      <th>user_gender</th>\n",
       "      <th>user_age</th>\n",
       "      <th>user_region</th>\n",
       "      <th>price</th>\n",
       "      <th>top</th>\n",
       "    </tr>\n",
       "  </thead>\n",
       "  <tbody>\n",
       "    <tr>\n",
       "      <th>0</th>\n",
       "      <td>2</td>\n",
       "      <td>1</td>\n",
       "      <td>2</td>\n",
       "      <td>2035</td>\n",
       "      <td>1</td>\n",
       "      <td>1</td>\n",
       "      <td>3</td>\n",
       "    </tr>\n",
       "    <tr>\n",
       "      <th>1</th>\n",
       "      <td>2</td>\n",
       "      <td>1</td>\n",
       "      <td>1</td>\n",
       "      <td>2035</td>\n",
       "      <td>5</td>\n",
       "      <td>3</td>\n",
       "      <td>2</td>\n",
       "    </tr>\n",
       "    <tr>\n",
       "      <th>2</th>\n",
       "      <td>1</td>\n",
       "      <td>1</td>\n",
       "      <td>2</td>\n",
       "      <td>2035</td>\n",
       "      <td>1</td>\n",
       "      <td>12</td>\n",
       "      <td>21</td>\n",
       "    </tr>\n",
       "    <tr>\n",
       "      <th>3</th>\n",
       "      <td>1</td>\n",
       "      <td>1</td>\n",
       "      <td>2</td>\n",
       "      <td>2035</td>\n",
       "      <td>7</td>\n",
       "      <td>7</td>\n",
       "      <td>22</td>\n",
       "    </tr>\n",
       "    <tr>\n",
       "      <th>4</th>\n",
       "      <td>1</td>\n",
       "      <td>1</td>\n",
       "      <td>2</td>\n",
       "      <td>2035</td>\n",
       "      <td>1</td>\n",
       "      <td>6</td>\n",
       "      <td>25</td>\n",
       "    </tr>\n",
       "    <tr>\n",
       "      <th>...</th>\n",
       "      <td>...</td>\n",
       "      <td>...</td>\n",
       "      <td>...</td>\n",
       "      <td>...</td>\n",
       "      <td>...</td>\n",
       "      <td>...</td>\n",
       "      <td>...</td>\n",
       "    </tr>\n",
       "    <tr>\n",
       "      <th>1927876</th>\n",
       "      <td>0</td>\n",
       "      <td>53</td>\n",
       "      <td>2</td>\n",
       "      <td>2035</td>\n",
       "      <td>2</td>\n",
       "      <td>2</td>\n",
       "      <td>9</td>\n",
       "    </tr>\n",
       "    <tr>\n",
       "      <th>1927877</th>\n",
       "      <td>4</td>\n",
       "      <td>53</td>\n",
       "      <td>1</td>\n",
       "      <td>2035</td>\n",
       "      <td>2</td>\n",
       "      <td>2</td>\n",
       "      <td>27</td>\n",
       "    </tr>\n",
       "    <tr>\n",
       "      <th>1927878</th>\n",
       "      <td>4</td>\n",
       "      <td>53</td>\n",
       "      <td>2</td>\n",
       "      <td>2035</td>\n",
       "      <td>3</td>\n",
       "      <td>4</td>\n",
       "      <td>19</td>\n",
       "    </tr>\n",
       "    <tr>\n",
       "      <th>1927879</th>\n",
       "      <td>0</td>\n",
       "      <td>53</td>\n",
       "      <td>1</td>\n",
       "      <td>2035</td>\n",
       "      <td>8</td>\n",
       "      <td>11</td>\n",
       "      <td>5</td>\n",
       "    </tr>\n",
       "    <tr>\n",
       "      <th>1927880</th>\n",
       "      <td>0</td>\n",
       "      <td>53</td>\n",
       "      <td>1</td>\n",
       "      <td>2035</td>\n",
       "      <td>3</td>\n",
       "      <td>5</td>\n",
       "      <td>6</td>\n",
       "    </tr>\n",
       "  </tbody>\n",
       "</table>\n",
       "<p>1927881 rows × 7 columns</p>\n",
       "</div>"
      ],
      "text/plain": [
       "         cluster  week  user_gender  user_age  user_region  price  top\n",
       "0              2     1            2      2035            1      1    3\n",
       "1              2     1            1      2035            5      3    2\n",
       "2              1     1            2      2035            1     12   21\n",
       "3              1     1            2      2035            7      7   22\n",
       "4              1     1            2      2035            1      6   25\n",
       "...          ...   ...          ...       ...          ...    ...  ...\n",
       "1927876        0    53            2      2035            2      2    9\n",
       "1927877        4    53            1      2035            2      2   27\n",
       "1927878        4    53            2      2035            3      4   19\n",
       "1927879        0    53            1      2035            8     11    5\n",
       "1927880        0    53            1      2035            3      5    6\n",
       "\n",
       "[1927881 rows x 7 columns]"
      ]
     },
     "execution_count": 129,
     "metadata": {},
     "output_type": "execute_result"
    }
   ],
   "source": [
    "r5"
   ]
  },
  {
   "cell_type": "code",
   "execution_count": 131,
   "metadata": {},
   "outputs": [],
   "source": [
    "# \"elbow\" in weektop of k=7\n",
    "kmeans_model7 = KMeans(n_clusters=7)\n",
    "clusters = kmeans_model7.fit_predict(weektop) \n",
    "# weektop_new=weektop.insert(weektop.columns.get_loc(\"week\"), \"cluster\", clusters)"
   ]
  },
  {
   "cell_type": "code",
   "execution_count": 132,
   "metadata": {},
   "outputs": [
    {
     "data": {
      "text/html": [
       "<div>\n",
       "<style scoped>\n",
       "    .dataframe tbody tr th:only-of-type {\n",
       "        vertical-align: middle;\n",
       "    }\n",
       "\n",
       "    .dataframe tbody tr th {\n",
       "        vertical-align: top;\n",
       "    }\n",
       "\n",
       "    .dataframe thead th {\n",
       "        text-align: right;\n",
       "    }\n",
       "</style>\n",
       "<table border=\"1\" class=\"dataframe\">\n",
       "  <thead>\n",
       "    <tr style=\"text-align: right;\">\n",
       "      <th></th>\n",
       "      <th>cluster</th>\n",
       "      <th>week</th>\n",
       "      <th>top</th>\n",
       "    </tr>\n",
       "  </thead>\n",
       "  <tbody>\n",
       "    <tr>\n",
       "      <th>0</th>\n",
       "      <td>0</td>\n",
       "      <td>1</td>\n",
       "      <td>3</td>\n",
       "    </tr>\n",
       "    <tr>\n",
       "      <th>1</th>\n",
       "      <td>0</td>\n",
       "      <td>1</td>\n",
       "      <td>2</td>\n",
       "    </tr>\n",
       "    <tr>\n",
       "      <th>2</th>\n",
       "      <td>3</td>\n",
       "      <td>1</td>\n",
       "      <td>21</td>\n",
       "    </tr>\n",
       "    <tr>\n",
       "      <th>3</th>\n",
       "      <td>3</td>\n",
       "      <td>1</td>\n",
       "      <td>22</td>\n",
       "    </tr>\n",
       "    <tr>\n",
       "      <th>4</th>\n",
       "      <td>3</td>\n",
       "      <td>1</td>\n",
       "      <td>25</td>\n",
       "    </tr>\n",
       "    <tr>\n",
       "      <th>...</th>\n",
       "      <td>...</td>\n",
       "      <td>...</td>\n",
       "      <td>...</td>\n",
       "    </tr>\n",
       "    <tr>\n",
       "      <th>1927876</th>\n",
       "      <td>1</td>\n",
       "      <td>53</td>\n",
       "      <td>9</td>\n",
       "    </tr>\n",
       "    <tr>\n",
       "      <th>1927877</th>\n",
       "      <td>6</td>\n",
       "      <td>53</td>\n",
       "      <td>27</td>\n",
       "    </tr>\n",
       "    <tr>\n",
       "      <th>1927878</th>\n",
       "      <td>6</td>\n",
       "      <td>53</td>\n",
       "      <td>19</td>\n",
       "    </tr>\n",
       "    <tr>\n",
       "      <th>1927879</th>\n",
       "      <td>1</td>\n",
       "      <td>53</td>\n",
       "      <td>5</td>\n",
       "    </tr>\n",
       "    <tr>\n",
       "      <th>1927880</th>\n",
       "      <td>1</td>\n",
       "      <td>53</td>\n",
       "      <td>6</td>\n",
       "    </tr>\n",
       "  </tbody>\n",
       "</table>\n",
       "<p>1927881 rows × 3 columns</p>\n",
       "</div>"
      ],
      "text/plain": [
       "         cluster  week  top\n",
       "0              0     1    3\n",
       "1              0     1    2\n",
       "2              3     1   21\n",
       "3              3     1   22\n",
       "4              3     1   25\n",
       "...          ...   ...  ...\n",
       "1927876        1    53    9\n",
       "1927877        6    53   27\n",
       "1927878        6    53   19\n",
       "1927879        1    53    5\n",
       "1927880        1    53    6\n",
       "\n",
       "[1927881 rows x 3 columns]"
      ]
     },
     "execution_count": 132,
     "metadata": {},
     "output_type": "execute_result"
    }
   ],
   "source": [
    "weektop"
   ]
  },
  {
   "cell_type": "code",
   "execution_count": 117,
   "metadata": {},
   "outputs": [],
   "source": [
    "# genre = data5['genre_name_all']\n",
    "# pd.DataFrame(genra).to_csv('/Users/karasu/Downloads/genre.csv') "
   ]
  },
  {
   "cell_type": "code",
   "execution_count": null,
   "metadata": {},
   "outputs": [],
   "source": []
  },
  {
   "cell_type": "code",
   "execution_count": null,
   "metadata": {},
   "outputs": [],
   "source": []
  }
 ],
 "metadata": {
  "kernelspec": {
   "display_name": "Python 3",
   "language": "python",
   "name": "python3"
  },
  "language_info": {
   "codemirror_mode": {
    "name": "ipython",
    "version": 3
   },
   "file_extension": ".py",
   "mimetype": "text/x-python",
   "name": "python",
   "nbconvert_exporter": "python",
   "pygments_lexer": "ipython3",
   "version": "3.8.5"
  }
 },
 "nbformat": 4,
 "nbformat_minor": 4
}
